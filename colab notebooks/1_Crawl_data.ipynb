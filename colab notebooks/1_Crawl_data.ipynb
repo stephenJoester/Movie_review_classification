{
 "cells": [
  {
   "cell_type": "code",
   "execution_count": 2,
   "metadata": {},
   "outputs": [],
   "source": [
    "from warnings import warn\n",
    "\n",
    "import pandas as pd\n",
    "import requests\n",
    "from bs4 import BeautifulSoup\n",
    "from tqdm import tqdm\n",
    "import matplotlib.pyplot as plt\n",
    "import seaborn as sns\n"
   ]
  },
  {
   "cell_type": "code",
   "execution_count": null,
   "metadata": {},
   "outputs": [],
   "source": [
    "# crawl_url = \"https://www.imdb.com/search/title/?release_date=2022-01-01,2023-09-26&sort=num_votes,desc,\" \\\n",
    "#             \"&start={}&ref_=adv_nxt\".format(page)\n",
    "\n",
    "# 2021 - 2022\n",
    "# crawl_url = \"https://www.imdb.com/search/title/?release_date=2021-01-01,2022-01-01&sort=num_votes,desc,\" \\\n",
    "#             \"&start={}&ref_=adv_nxt\""
   ]
  },
  {
   "cell_type": "code",
   "execution_count": 3,
   "metadata": {},
   "outputs": [],
   "source": [
    "def urls_crawl(source_domain = \"https://www.imdb.com\", crawl_url = \"https://www.imdb.com/search/title/?release_date=2022-01-01,2023-09-26&sort=num_votes,desc,\" \\\n",
    "            \"&start={}&ref_=adv_nxt\", page_range = range(0,50)): \n",
    "    request = 1\n",
    "\n",
    "    urls = []\n",
    "    for i in tqdm(page_range):\n",
    "        # Generate the page\n",
    "        page = i * 50 + 1\n",
    "\n",
    "        # Url\n",
    "        url = crawl_url.format(page)\n",
    "\n",
    "        # Send the request and Get the response\n",
    "        response = requests.get(url)\n",
    "        \n",
    "        # If status is not 200 then show an warning with request number\n",
    "        if response.status_code != 200:\n",
    "            warn(\"{} no. has status code {}\\n{}\\n\".format(request, response.status_code, url))\n",
    "        request += 1\n",
    "        \n",
    "        # Make Soup\n",
    "        soup = BeautifulSoup(response.text, \"html.parser\")\n",
    "\n",
    "        # Fetch the data\n",
    "        lister_items = soup.find_all(\"h3\", class_=\"lister-item-header\")\n",
    "\n",
    "        # Get the data\n",
    "        for single_item in lister_items:\n",
    "            url = single_item.find(\"a\")['href']\n",
    "            if url:\n",
    "                # Generate the user review\n",
    "                url = source_domain + url + \"reviews?spoiler=hide&sort=curated&dir=desc&ratingFilter=0\"\n",
    "                # print(url)\n",
    "                urls.append(url)\n",
    "\n",
    "    # Store the data to csv format\n",
    "    data_frame = pd.DataFrame({\n",
    "        \"review_urls\": urls,\n",
    "    })\n",
    "    return data_frame"
   ]
  },
  {
   "cell_type": "code",
   "execution_count": null,
   "metadata": {},
   "outputs": [],
   "source": [
    "data_frame = urls_crawl()\n",
    "# data_frame.to_csv(\"data/review_urls.csv\", index=False)\n",
    "print(\"All data successfully added\")"
   ]
  },
  {
   "cell_type": "markdown",
   "metadata": {},
   "source": [
    "### Review"
   ]
  },
  {
   "cell_type": "code",
   "execution_count": 43,
   "metadata": {},
   "outputs": [
    {
     "data": {
      "text/html": [
       "<div>\n",
       "<style scoped>\n",
       "    .dataframe tbody tr th:only-of-type {\n",
       "        vertical-align: middle;\n",
       "    }\n",
       "\n",
       "    .dataframe tbody tr th {\n",
       "        vertical-align: top;\n",
       "    }\n",
       "\n",
       "    .dataframe thead th {\n",
       "        text-align: right;\n",
       "    }\n",
       "</style>\n",
       "<table border=\"1\" class=\"dataframe\">\n",
       "  <thead>\n",
       "    <tr style=\"text-align: right;\">\n",
       "      <th></th>\n",
       "      <th>review_urls</th>\n",
       "    </tr>\n",
       "  </thead>\n",
       "  <tbody>\n",
       "    <tr>\n",
       "      <th>0</th>\n",
       "      <td>https://www.imdb.com/title/tt1877830/reviews?s...</td>\n",
       "    </tr>\n",
       "    <tr>\n",
       "      <th>1</th>\n",
       "      <td>https://www.imdb.com/title/tt1745960/reviews?s...</td>\n",
       "    </tr>\n",
       "    <tr>\n",
       "      <th>2</th>\n",
       "      <td>https://www.imdb.com/title/tt10811166/reviews?...</td>\n",
       "    </tr>\n",
       "    <tr>\n",
       "      <th>3</th>\n",
       "      <td>https://www.imdb.com/title/tt6710474/reviews?s...</td>\n",
       "    </tr>\n",
       "    <tr>\n",
       "      <th>4</th>\n",
       "      <td>https://www.imdb.com/title/tt1630029/reviews?s...</td>\n",
       "    </tr>\n",
       "    <tr>\n",
       "      <th>...</th>\n",
       "      <td>...</td>\n",
       "    </tr>\n",
       "    <tr>\n",
       "      <th>2495</th>\n",
       "      <td>https://www.imdb.com/title/tt13635702/reviews?...</td>\n",
       "    </tr>\n",
       "    <tr>\n",
       "      <th>2496</th>\n",
       "      <td>https://www.imdb.com/title/tt17372734/reviews?...</td>\n",
       "    </tr>\n",
       "    <tr>\n",
       "      <th>2497</th>\n",
       "      <td>https://www.imdb.com/title/tt12327578/reviews?...</td>\n",
       "    </tr>\n",
       "    <tr>\n",
       "      <th>2498</th>\n",
       "      <td>https://www.imdb.com/title/tt15568702/reviews?...</td>\n",
       "    </tr>\n",
       "    <tr>\n",
       "      <th>2499</th>\n",
       "      <td>https://www.imdb.com/title/tt15384074/reviews?...</td>\n",
       "    </tr>\n",
       "  </tbody>\n",
       "</table>\n",
       "<p>2500 rows × 1 columns</p>\n",
       "</div>"
      ],
      "text/plain": [
       "                                            review_urls\n",
       "0     https://www.imdb.com/title/tt1877830/reviews?s...\n",
       "1     https://www.imdb.com/title/tt1745960/reviews?s...\n",
       "2     https://www.imdb.com/title/tt10811166/reviews?...\n",
       "3     https://www.imdb.com/title/tt6710474/reviews?s...\n",
       "4     https://www.imdb.com/title/tt1630029/reviews?s...\n",
       "...                                                 ...\n",
       "2495  https://www.imdb.com/title/tt13635702/reviews?...\n",
       "2496  https://www.imdb.com/title/tt17372734/reviews?...\n",
       "2497  https://www.imdb.com/title/tt12327578/reviews?...\n",
       "2498  https://www.imdb.com/title/tt15568702/reviews?...\n",
       "2499  https://www.imdb.com/title/tt15384074/reviews?...\n",
       "\n",
       "[2500 rows x 1 columns]"
      ]
     },
     "execution_count": 43,
     "metadata": {},
     "output_type": "execute_result"
    }
   ],
   "source": [
    "review_urls = pd.read_csv(\"data/review_urls.csv\")\n",
    "review_urls"
   ]
  },
  {
   "cell_type": "code",
   "execution_count": 44,
   "metadata": {},
   "outputs": [],
   "source": [
    "# range(1,11) (rating star) -> all \n",
    "def crawl(batch = review_urls['review_urls'][0:1000], rate_filter = range(1,11)):\n",
    "    reviews = []\n",
    "    rates = []\n",
    "    for idx, url in enumerate(tqdm(batch), start=1):\n",
    "        try:\n",
    "            response = requests.get(url, timeout=10)\n",
    "            \n",
    "            soup = BeautifulSoup(response.text, 'html.parser')\n",
    "            \n",
    "            lister_items = soup.find_all(\"div\", class_=\"lister-item-content\")\n",
    "\n",
    "            for idx, item in enumerate(lister_items, start=1):\n",
    "                try:\n",
    "                    # --- Rating ---\n",
    "                    rate = item.find('div','ipl-ratings-bar').text if item.find('div','ipl-ratings-bar') else None\n",
    "                    # print()\n",
    "                    # Loại bỏ ký tự dư thừa\n",
    "                    if rate:\n",
    "                        rate = rate.replace('\\n','')\n",
    "                        rate = rate.replace('/10','')\n",
    "                        if int(rate) in rate_filter:\n",
    "                            rates.append(rate)\n",
    "                        else:\n",
    "                            continue\n",
    "                    else:\n",
    "                        continue\n",
    "                    # --- Content ---\n",
    "                    content = item.find('div', 'text show-more__control').text if item.find('div', 'text show-more__control') else None\n",
    "                    if content:\n",
    "                        reviews.append(content)\n",
    "                    else:\n",
    "                        continue\n",
    "                except Exception as e:\n",
    "                    print(f\"Lỗi khi xử lý item thứ {idx} trong URL {url}: {str(e)}\")\n",
    "            \n",
    "        except requests.exceptions.RequestException as e:\n",
    "            print(f\"Lỗi khi truy cập URL {url} ở vòng lặp thứ {idx} : {str(e)}\")    \n",
    "    return rates, reviews\n"
   ]
  },
  {
   "cell_type": "code",
   "execution_count": 7,
   "metadata": {},
   "outputs": [
    {
     "name": "stderr",
     "output_type": "stream",
     "text": [
      "  0%|          | 0/500 [00:00<?, ?it/s]"
     ]
    },
    {
     "name": "stderr",
     "output_type": "stream",
     "text": [
      " 23%|██▎       | 114/500 [04:01<30:32,  4.75s/it]"
     ]
    },
    {
     "name": "stdout",
     "output_type": "stream",
     "text": [
      "Lỗi khi truy cập URL https://www.imdb.com/title/tt12003946/reviews?spoiler=hide&sort=curated&dir=desc&ratingFilter=0 ở vòng lặp thứ 114 : HTTPSConnectionPool(host='www.imdb.com', port=443): Read timed out.\n"
     ]
    },
    {
     "name": "stderr",
     "output_type": "stream",
     "text": [
      " 64%|██████▍   | 320/500 [10:45<14:02,  4.68s/it]"
     ]
    },
    {
     "name": "stdout",
     "output_type": "stream",
     "text": [
      "Lỗi khi truy cập URL https://www.imdb.com/title/tt13640670/reviews?spoiler=hide&sort=curated&dir=desc&ratingFilter=0 ở vòng lặp thứ 320 : HTTPSConnectionPool(host='www.imdb.com', port=443): Read timed out.\n"
     ]
    },
    {
     "name": "stderr",
     "output_type": "stream",
     "text": [
      "100%|██████████| 500/500 [16:30<00:00,  1.98s/it]\n"
     ]
    },
    {
     "name": "stdout",
     "output_type": "stream",
     "text": [
      "All data successfully added\n"
     ]
    }
   ],
   "source": [
    "# --- Batch 1 --- \n",
    "rates, reviews = crawl(batch = review_urls['review_urls'][0:500])\n",
    "# Store the data to csv format\n",
    "data_frame = pd.DataFrame({\n",
    "    \"Review\": reviews,\n",
    "    \"Rate\" : rates\n",
    "})\n",
    "\n",
    "data_frame.to_csv(\"data/batch1_IMDB_reviews.csv\", index=False)\n",
    "print(\"All data successfully added\")"
   ]
  },
  {
   "cell_type": "code",
   "execution_count": 20,
   "metadata": {},
   "outputs": [
    {
     "name": "stderr",
     "output_type": "stream",
     "text": [
      "100%|██████████| 500/500 [15:37<00:00,  1.87s/it]\n"
     ]
    },
    {
     "name": "stdout",
     "output_type": "stream",
     "text": [
      "All data successfully added\n"
     ]
    }
   ],
   "source": [
    "# --- Batch 2 --- \n",
    "rates, reviews = crawl(batch = review_urls['review_urls'][500:1000])\n",
    "# Store the data to csv format\n",
    "data_frame = pd.DataFrame({\n",
    "    \"Review\": reviews,\n",
    "    \"Rate\" : rates\n",
    "})\n",
    "\n",
    "data_frame.to_csv(\"data/batch2_IMDB_reviews.csv\", index=False)\n",
    "print(\"All data successfully added\")"
   ]
  },
  {
   "cell_type": "code",
   "execution_count": 6,
   "metadata": {},
   "outputs": [
    {
     "name": "stderr",
     "output_type": "stream",
     "text": [
      " 16%|█▌        | 80/500 [02:29<33:00,  4.71s/it]"
     ]
    },
    {
     "name": "stdout",
     "output_type": "stream",
     "text": [
      "Lỗi khi truy cập URL https://www.imdb.com/title/tt27726927/reviews?spoiler=hide&sort=curated&dir=desc&ratingFilter=0 ở vòng lặp thứ 80 : HTTPSConnectionPool(host='www.imdb.com', port=443): Read timed out.\n"
     ]
    },
    {
     "name": "stderr",
     "output_type": "stream",
     "text": [
      " 43%|████▎     | 215/500 [06:43<22:27,  4.73s/it]"
     ]
    },
    {
     "name": "stdout",
     "output_type": "stream",
     "text": [
      "Lỗi khi truy cập URL https://www.imdb.com/title/tt28282716/reviews?spoiler=hide&sort=curated&dir=desc&ratingFilter=0 ở vòng lặp thứ 215 : HTTPSConnectionPool(host='www.imdb.com', port=443): Read timed out.\n"
     ]
    },
    {
     "name": "stderr",
     "output_type": "stream",
     "text": [
      " 43%|████▎     | 216/500 [06:56<33:09,  7.01s/it]"
     ]
    },
    {
     "name": "stdout",
     "output_type": "stream",
     "text": [
      "Lỗi khi truy cập URL https://www.imdb.com/title/tt15717242/reviews?spoiler=hide&sort=curated&dir=desc&ratingFilter=0 ở vòng lặp thứ 216 : HTTPSConnectionPool(host='www.imdb.com', port=443): Read timed out.\n"
     ]
    },
    {
     "name": "stderr",
     "output_type": "stream",
     "text": [
      " 84%|████████▎ | 418/500 [13:03<06:25,  4.70s/it]"
     ]
    },
    {
     "name": "stdout",
     "output_type": "stream",
     "text": [
      "Lỗi khi truy cập URL https://www.imdb.com/title/tt1520211/reviews?spoiler=hide&sort=curated&dir=desc&ratingFilter=0 ở vòng lặp thứ 418 : HTTPSConnectionPool(host='www.imdb.com', port=443): Read timed out.\n"
     ]
    },
    {
     "name": "stderr",
     "output_type": "stream",
     "text": [
      "100%|██████████| 500/500 [15:37<00:00,  1.87s/it]\n"
     ]
    },
    {
     "name": "stdout",
     "output_type": "stream",
     "text": [
      "All data successfully added\n"
     ]
    }
   ],
   "source": [
    "# --- Batch 3 --- \n",
    "rates, reviews = crawl(batch = review_urls['review_urls'][1000:1500])\n",
    "# Store the data to csv format\n",
    "data_frame = pd.DataFrame({\n",
    "    \"Review\": reviews,\n",
    "    \"Rate\" : rates\n",
    "})\n",
    "\n",
    "data_frame.to_csv(\"data/batch3_IMDB_reviews.csv\", index=False)\n",
    "print(\"All data successfully added\")"
   ]
  },
  {
   "cell_type": "code",
   "execution_count": 7,
   "metadata": {},
   "outputs": [
    {
     "name": "stderr",
     "output_type": "stream",
     "text": [
      " 38%|███▊      | 188/500 [05:53<24:24,  4.69s/it]"
     ]
    },
    {
     "name": "stdout",
     "output_type": "stream",
     "text": [
      "Lỗi khi truy cập URL https://www.imdb.com/title/tt15481952/reviews?spoiler=hide&sort=curated&dir=desc&ratingFilter=0 ở vòng lặp thứ 188 : HTTPSConnectionPool(host='www.imdb.com', port=443): Read timed out.\n"
     ]
    },
    {
     "name": "stderr",
     "output_type": "stream",
     "text": [
      " 38%|███▊      | 189/500 [06:04<35:00,  6.75s/it]"
     ]
    },
    {
     "name": "stdout",
     "output_type": "stream",
     "text": [
      "Lỗi khi truy cập URL https://www.imdb.com/title/tt28970408/reviews?spoiler=hide&sort=curated&dir=desc&ratingFilter=0 ở vòng lặp thứ 189 : HTTPSConnectionPool(host='www.imdb.com', port=443): Read timed out.\n"
     ]
    },
    {
     "name": "stderr",
     "output_type": "stream",
     "text": [
      " 84%|████████▎ | 418/500 [13:16<06:09,  4.50s/it]"
     ]
    },
    {
     "name": "stdout",
     "output_type": "stream",
     "text": [
      "Lỗi khi truy cập URL https://www.imdb.com/title/tt14452776/reviews?spoiler=hide&sort=curated&dir=desc&ratingFilter=0 ở vòng lặp thứ 418 : HTTPSConnectionPool(host='www.imdb.com', port=443): Read timed out.\n"
     ]
    },
    {
     "name": "stderr",
     "output_type": "stream",
     "text": [
      " 84%|████████▍ | 419/500 [13:27<08:48,  6.53s/it]"
     ]
    },
    {
     "name": "stdout",
     "output_type": "stream",
     "text": [
      "Lỗi khi truy cập URL https://www.imdb.com/title/tt13654122/reviews?spoiler=hide&sort=curated&dir=desc&ratingFilter=0 ở vòng lặp thứ 419 : HTTPSConnectionPool(host='www.imdb.com', port=443): Read timed out.\n"
     ]
    },
    {
     "name": "stderr",
     "output_type": "stream",
     "text": [
      "100%|██████████| 500/500 [15:46<00:00,  1.89s/it]\n"
     ]
    },
    {
     "name": "stdout",
     "output_type": "stream",
     "text": [
      "All data successfully added\n"
     ]
    }
   ],
   "source": [
    "# --- Batch 4 --- \n",
    "rates, reviews = crawl(batch = review_urls['review_urls'][1500:2000])\n",
    "# Store the data to csv format\n",
    "data_frame = pd.DataFrame({\n",
    "    \"Review\": reviews,\n",
    "    \"Rate\" : rates\n",
    "})\n",
    "\n",
    "data_frame.to_csv(\"data/batch4_IMDB_reviews.csv\", index=False)\n",
    "print(\"All data successfully added\")"
   ]
  },
  {
   "cell_type": "code",
   "execution_count": 8,
   "metadata": {},
   "outputs": [
    {
     "name": "stderr",
     "output_type": "stream",
     "text": [
      " 23%|██▎       | 117/500 [03:37<30:24,  4.76s/it]"
     ]
    },
    {
     "name": "stdout",
     "output_type": "stream",
     "text": [
      "Lỗi khi truy cập URL https://www.imdb.com/title/tt11743610/reviews?spoiler=hide&sort=curated&dir=desc&ratingFilter=0 ở vòng lặp thứ 117 : HTTPSConnectionPool(host='www.imdb.com', port=443): Read timed out.\n"
     ]
    },
    {
     "name": "stderr",
     "output_type": "stream",
     "text": [
      " 68%|██████▊   | 341/500 [10:34<12:16,  4.63s/it]"
     ]
    },
    {
     "name": "stdout",
     "output_type": "stream",
     "text": [
      "Lỗi khi truy cập URL https://www.imdb.com/title/tt21874046/reviews?spoiler=hide&sort=curated&dir=desc&ratingFilter=0 ở vòng lặp thứ 341 : HTTPSConnectionPool(host='www.imdb.com', port=443): Read timed out.\n"
     ]
    },
    {
     "name": "stderr",
     "output_type": "stream",
     "text": [
      "100%|██████████| 500/500 [15:17<00:00,  1.83s/it]\n"
     ]
    },
    {
     "name": "stdout",
     "output_type": "stream",
     "text": [
      "All data successfully added\n"
     ]
    }
   ],
   "source": [
    "# --- Batch 5 --- \n",
    "rates, reviews = crawl(batch = review_urls['review_urls'][2000:])\n",
    "# Store the data to csv format\n",
    "data_frame = pd.DataFrame({\n",
    "    \"Review\": reviews,\n",
    "    \"Rate\" : rates\n",
    "})\n",
    "\n",
    "data_frame.to_csv(\"data/batch5_IMDB_reviews.csv\", index=False)\n",
    "print(\"All data successfully added\")"
   ]
  },
  {
   "cell_type": "markdown",
   "metadata": {},
   "source": [
    "## raw data"
   ]
  },
  {
   "cell_type": "code",
   "execution_count": 9,
   "metadata": {},
   "outputs": [],
   "source": [
    "batch1 = pd.read_csv(\"data/batch1_IMDB_reviews.csv\")\n",
    "batch2 = pd.read_csv(\"data/batch2_IMDB_reviews.csv\")\n",
    "batch3 = pd.read_csv(\"data/batch3_IMDB_reviews.csv\")\n",
    "batch4 = pd.read_csv(\"data/batch4_IMDB_reviews.csv\")\n",
    "batch5 = pd.read_csv(\"data/batch5_IMDB_reviews.csv\")\n"
   ]
  },
  {
   "cell_type": "code",
   "execution_count": 26,
   "metadata": {},
   "outputs": [
    {
     "data": {
      "text/html": [
       "<div>\n",
       "<style scoped>\n",
       "    .dataframe tbody tr th:only-of-type {\n",
       "        vertical-align: middle;\n",
       "    }\n",
       "\n",
       "    .dataframe tbody tr th {\n",
       "        vertical-align: top;\n",
       "    }\n",
       "\n",
       "    .dataframe thead th {\n",
       "        text-align: right;\n",
       "    }\n",
       "</style>\n",
       "<table border=\"1\" class=\"dataframe\">\n",
       "  <thead>\n",
       "    <tr style=\"text-align: right;\">\n",
       "      <th></th>\n",
       "      <th>Review</th>\n",
       "      <th>Rate</th>\n",
       "    </tr>\n",
       "  </thead>\n",
       "  <tbody>\n",
       "    <tr>\n",
       "      <th>0</th>\n",
       "      <td>\\nDetective Batman at its peak! Great storylin...</td>\n",
       "      <td>9</td>\n",
       "    </tr>\n",
       "    <tr>\n",
       "      <th>1</th>\n",
       "      <td>\\nI just got out of The BatmanThis movie reall...</td>\n",
       "      <td>8</td>\n",
       "    </tr>\n",
       "    <tr>\n",
       "      <th>2</th>\n",
       "      <td>\\nThe Riddler(Paul Dano, spot-on. How did it t...</td>\n",
       "      <td>9</td>\n",
       "    </tr>\n",
       "    <tr>\n",
       "      <th>3</th>\n",
       "      <td>\\nA serial killer strikes in Gotham City, kill...</td>\n",
       "      <td>7</td>\n",
       "    </tr>\n",
       "    <tr>\n",
       "      <th>4</th>\n",
       "      <td>\\nMatt Reeves The Batman is a hell of a movie,...</td>\n",
       "      <td>9</td>\n",
       "    </tr>\n",
       "    <tr>\n",
       "      <th>...</th>\n",
       "      <td>...</td>\n",
       "      <td>...</td>\n",
       "    </tr>\n",
       "    <tr>\n",
       "      <th>12112</th>\n",
       "      <td>\\nTwists and turns through a desolate Aussie l...</td>\n",
       "      <td>8</td>\n",
       "    </tr>\n",
       "    <tr>\n",
       "      <th>12113</th>\n",
       "      <td>\\nI enjoyed this a lot. Good pacing, interesti...</td>\n",
       "      <td>8</td>\n",
       "    </tr>\n",
       "    <tr>\n",
       "      <th>12114</th>\n",
       "      <td>\\nOh dear. This shockingly fourth-rate product...</td>\n",
       "      <td>3</td>\n",
       "    </tr>\n",
       "    <tr>\n",
       "      <th>12115</th>\n",
       "      <td>\\nJeez, saw some of the reviews and saw, writt...</td>\n",
       "      <td>10</td>\n",
       "    </tr>\n",
       "    <tr>\n",
       "      <th>12116</th>\n",
       "      <td>\\nOk...the first couple of episodes are so-so....</td>\n",
       "      <td>8</td>\n",
       "    </tr>\n",
       "  </tbody>\n",
       "</table>\n",
       "<p>12117 rows × 2 columns</p>\n",
       "</div>"
      ],
      "text/plain": [
       "                                                  Review  Rate\n",
       "0      \\nDetective Batman at its peak! Great storylin...     9\n",
       "1      \\nI just got out of The BatmanThis movie reall...     8\n",
       "2      \\nThe Riddler(Paul Dano, spot-on. How did it t...     9\n",
       "3      \\nA serial killer strikes in Gotham City, kill...     7\n",
       "4      \\nMatt Reeves The Batman is a hell of a movie,...     9\n",
       "...                                                  ...   ...\n",
       "12112  \\nTwists and turns through a desolate Aussie l...     8\n",
       "12113  \\nI enjoyed this a lot. Good pacing, interesti...     8\n",
       "12114  \\nOh dear. This shockingly fourth-rate product...     3\n",
       "12115  \\nJeez, saw some of the reviews and saw, writt...    10\n",
       "12116  \\nOk...the first couple of episodes are so-so....     8\n",
       "\n",
       "[12117 rows x 2 columns]"
      ]
     },
     "execution_count": 26,
     "metadata": {},
     "output_type": "execute_result"
    }
   ],
   "source": [
    "batch1"
   ]
  },
  {
   "cell_type": "code",
   "execution_count": 10,
   "metadata": {},
   "outputs": [],
   "source": [
    "raw_data = pd.concat([batch1, batch2, batch3, batch4, batch5], ignore_index=True)"
   ]
  },
  {
   "cell_type": "code",
   "execution_count": 11,
   "metadata": {},
   "outputs": [
    {
     "data": {
      "text/html": [
       "<div>\n",
       "<style scoped>\n",
       "    .dataframe tbody tr th:only-of-type {\n",
       "        vertical-align: middle;\n",
       "    }\n",
       "\n",
       "    .dataframe tbody tr th {\n",
       "        vertical-align: top;\n",
       "    }\n",
       "\n",
       "    .dataframe thead th {\n",
       "        text-align: right;\n",
       "    }\n",
       "</style>\n",
       "<table border=\"1\" class=\"dataframe\">\n",
       "  <thead>\n",
       "    <tr style=\"text-align: right;\">\n",
       "      <th></th>\n",
       "      <th>Review</th>\n",
       "      <th>Rate</th>\n",
       "    </tr>\n",
       "  </thead>\n",
       "  <tbody>\n",
       "    <tr>\n",
       "      <th>0</th>\n",
       "      <td>\\nDetective Batman at its peak! Great storylin...</td>\n",
       "      <td>9</td>\n",
       "    </tr>\n",
       "    <tr>\n",
       "      <th>1</th>\n",
       "      <td>\\nI just got out of The BatmanThis movie reall...</td>\n",
       "      <td>8</td>\n",
       "    </tr>\n",
       "    <tr>\n",
       "      <th>2</th>\n",
       "      <td>\\nThe Riddler(Paul Dano, spot-on. How did it t...</td>\n",
       "      <td>9</td>\n",
       "    </tr>\n",
       "    <tr>\n",
       "      <th>3</th>\n",
       "      <td>\\nA serial killer strikes in Gotham City, kill...</td>\n",
       "      <td>7</td>\n",
       "    </tr>\n",
       "    <tr>\n",
       "      <th>4</th>\n",
       "      <td>\\nMatt Reeves The Batman is a hell of a movie,...</td>\n",
       "      <td>9</td>\n",
       "    </tr>\n",
       "    <tr>\n",
       "      <th>...</th>\n",
       "      <td>...</td>\n",
       "      <td>...</td>\n",
       "    </tr>\n",
       "    <tr>\n",
       "      <th>57546</th>\n",
       "      <td>The series starts a bit weakly, but gradually ...</td>\n",
       "      <td>9</td>\n",
       "    </tr>\n",
       "    <tr>\n",
       "      <th>57547</th>\n",
       "      <td>First Marie Antoinette was between 14 and 15 a...</td>\n",
       "      <td>4</td>\n",
       "    </tr>\n",
       "    <tr>\n",
       "      <th>57548</th>\n",
       "      <td>That was so unbelievably bad, I have no words ...</td>\n",
       "      <td>1</td>\n",
       "    </tr>\n",
       "    <tr>\n",
       "      <th>57549</th>\n",
       "      <td>The worst depiction of Marie Antoinette's life...</td>\n",
       "      <td>1</td>\n",
       "    </tr>\n",
       "    <tr>\n",
       "      <th>57550</th>\n",
       "      <td>Wasn't sure I could cope with another batch of...</td>\n",
       "      <td>7</td>\n",
       "    </tr>\n",
       "  </tbody>\n",
       "</table>\n",
       "<p>57551 rows × 2 columns</p>\n",
       "</div>"
      ],
      "text/plain": [
       "                                                  Review  Rate\n",
       "0      \\nDetective Batman at its peak! Great storylin...     9\n",
       "1      \\nI just got out of The BatmanThis movie reall...     8\n",
       "2      \\nThe Riddler(Paul Dano, spot-on. How did it t...     9\n",
       "3      \\nA serial killer strikes in Gotham City, kill...     7\n",
       "4      \\nMatt Reeves The Batman is a hell of a movie,...     9\n",
       "...                                                  ...   ...\n",
       "57546  The series starts a bit weakly, but gradually ...     9\n",
       "57547  First Marie Antoinette was between 14 and 15 a...     4\n",
       "57548  That was so unbelievably bad, I have no words ...     1\n",
       "57549  The worst depiction of Marie Antoinette's life...     1\n",
       "57550  Wasn't sure I could cope with another batch of...     7\n",
       "\n",
       "[57551 rows x 2 columns]"
      ]
     },
     "execution_count": 11,
     "metadata": {},
     "output_type": "execute_result"
    }
   ],
   "source": [
    "raw_data"
   ]
  },
  {
   "cell_type": "code",
   "execution_count": 12,
   "metadata": {},
   "outputs": [],
   "source": [
    "raw_data.to_csv(\"data/raw_data.csv\", index=False)"
   ]
  },
  {
   "cell_type": "code",
   "execution_count": 16,
   "metadata": {},
   "outputs": [],
   "source": [
    "labeled_raw_data = raw_data.copy()"
   ]
  },
  {
   "cell_type": "code",
   "execution_count": 17,
   "metadata": {},
   "outputs": [
    {
     "data": {
      "text/html": [
       "<div>\n",
       "<style scoped>\n",
       "    .dataframe tbody tr th:only-of-type {\n",
       "        vertical-align: middle;\n",
       "    }\n",
       "\n",
       "    .dataframe tbody tr th {\n",
       "        vertical-align: top;\n",
       "    }\n",
       "\n",
       "    .dataframe thead th {\n",
       "        text-align: right;\n",
       "    }\n",
       "</style>\n",
       "<table border=\"1\" class=\"dataframe\">\n",
       "  <thead>\n",
       "    <tr style=\"text-align: right;\">\n",
       "      <th></th>\n",
       "      <th>Review</th>\n",
       "      <th>Rate</th>\n",
       "    </tr>\n",
       "  </thead>\n",
       "  <tbody>\n",
       "    <tr>\n",
       "      <th>0</th>\n",
       "      <td>\\nDetective Batman at its peak! Great storylin...</td>\n",
       "      <td>9</td>\n",
       "    </tr>\n",
       "    <tr>\n",
       "      <th>1</th>\n",
       "      <td>\\nI just got out of The BatmanThis movie reall...</td>\n",
       "      <td>8</td>\n",
       "    </tr>\n",
       "    <tr>\n",
       "      <th>2</th>\n",
       "      <td>\\nThe Riddler(Paul Dano, spot-on. How did it t...</td>\n",
       "      <td>9</td>\n",
       "    </tr>\n",
       "    <tr>\n",
       "      <th>3</th>\n",
       "      <td>\\nA serial killer strikes in Gotham City, kill...</td>\n",
       "      <td>7</td>\n",
       "    </tr>\n",
       "    <tr>\n",
       "      <th>4</th>\n",
       "      <td>\\nMatt Reeves The Batman is a hell of a movie,...</td>\n",
       "      <td>9</td>\n",
       "    </tr>\n",
       "    <tr>\n",
       "      <th>...</th>\n",
       "      <td>...</td>\n",
       "      <td>...</td>\n",
       "    </tr>\n",
       "    <tr>\n",
       "      <th>57546</th>\n",
       "      <td>The series starts a bit weakly, but gradually ...</td>\n",
       "      <td>9</td>\n",
       "    </tr>\n",
       "    <tr>\n",
       "      <th>57547</th>\n",
       "      <td>First Marie Antoinette was between 14 and 15 a...</td>\n",
       "      <td>4</td>\n",
       "    </tr>\n",
       "    <tr>\n",
       "      <th>57548</th>\n",
       "      <td>That was so unbelievably bad, I have no words ...</td>\n",
       "      <td>1</td>\n",
       "    </tr>\n",
       "    <tr>\n",
       "      <th>57549</th>\n",
       "      <td>The worst depiction of Marie Antoinette's life...</td>\n",
       "      <td>1</td>\n",
       "    </tr>\n",
       "    <tr>\n",
       "      <th>57550</th>\n",
       "      <td>Wasn't sure I could cope with another batch of...</td>\n",
       "      <td>7</td>\n",
       "    </tr>\n",
       "  </tbody>\n",
       "</table>\n",
       "<p>57551 rows × 2 columns</p>\n",
       "</div>"
      ],
      "text/plain": [
       "                                                  Review  Rate\n",
       "0      \\nDetective Batman at its peak! Great storylin...     9\n",
       "1      \\nI just got out of The BatmanThis movie reall...     8\n",
       "2      \\nThe Riddler(Paul Dano, spot-on. How did it t...     9\n",
       "3      \\nA serial killer strikes in Gotham City, kill...     7\n",
       "4      \\nMatt Reeves The Batman is a hell of a movie,...     9\n",
       "...                                                  ...   ...\n",
       "57546  The series starts a bit weakly, but gradually ...     9\n",
       "57547  First Marie Antoinette was between 14 and 15 a...     4\n",
       "57548  That was so unbelievably bad, I have no words ...     1\n",
       "57549  The worst depiction of Marie Antoinette's life...     1\n",
       "57550  Wasn't sure I could cope with another batch of...     7\n",
       "\n",
       "[57551 rows x 2 columns]"
      ]
     },
     "execution_count": 17,
     "metadata": {},
     "output_type": "execute_result"
    }
   ],
   "source": [
    "labeled_raw_data"
   ]
  },
  {
   "cell_type": "markdown",
   "metadata": {},
   "source": [
    "#### Gán nhãn"
   ]
  },
  {
   "cell_type": "code",
   "execution_count": 18,
   "metadata": {},
   "outputs": [
    {
     "name": "stdout",
     "output_type": "stream",
     "text": [
      "                                                  Review  Rate     Label\n",
      "0      \\nDetective Batman at its peak! Great storylin...     9  positive\n",
      "1      \\nI just got out of The BatmanThis movie reall...     8  positive\n",
      "2      \\nThe Riddler(Paul Dano, spot-on. How did it t...     9  positive\n",
      "3      \\nA serial killer strikes in Gotham City, kill...     7  positive\n",
      "4      \\nMatt Reeves The Batman is a hell of a movie,...     9  positive\n",
      "...                                                  ...   ...       ...\n",
      "57546  The series starts a bit weakly, but gradually ...     9  positive\n",
      "57547  First Marie Antoinette was between 14 and 15 a...     4   neutral\n",
      "57548  That was so unbelievably bad, I have no words ...     1  negative\n",
      "57549  The worst depiction of Marie Antoinette's life...     1  negative\n",
      "57550  Wasn't sure I could cope with another batch of...     7  positive\n",
      "\n",
      "[57551 rows x 3 columns]\n"
     ]
    }
   ],
   "source": [
    "# Định nghĩa hàm ánh xạ giá trị rate sang nhãn\n",
    "def map_to_label(rate):\n",
    "    if rate >= 7:\n",
    "        return 'positive'\n",
    "    elif rate >= 4:\n",
    "        return 'neutral'\n",
    "    else:\n",
    "        return 'negative'\n",
    "\n",
    "# Sử dụng hàm ánh xạ để tạo cột nhãn mới\n",
    "labeled_raw_data['Label'] = labeled_raw_data['Rate'].map(map_to_label)\n",
    "\n",
    "# In ra DataFrame sau khi thêm cột nhãn\n",
    "print(labeled_raw_data)"
   ]
  },
  {
   "cell_type": "markdown",
   "metadata": {},
   "source": [
    "#### Phân bố class"
   ]
  },
  {
   "cell_type": "code",
   "execution_count": 19,
   "metadata": {},
   "outputs": [],
   "source": [
    "labeled_raw_data.to_csv(\"data/labeled_raw_data.csv\", index=False)"
   ]
  },
  {
   "cell_type": "code",
   "execution_count": 120,
   "metadata": {},
   "outputs": [],
   "source": [
    "labeled_raw_data = pd.read_csv(\"./data/labeled_raw_data.csv\")"
   ]
  },
  {
   "cell_type": "code",
   "execution_count": 121,
   "metadata": {},
   "outputs": [
    {
     "data": {
      "text/plain": [
       "positive    37030\n",
       "negative    10268\n",
       "neutral     10253\n",
       "Name: Label, dtype: int64"
      ]
     },
     "execution_count": 121,
     "metadata": {},
     "output_type": "execute_result"
    }
   ],
   "source": [
    "class_counts = labeled_raw_data['Label'].value_counts()\n",
    "class_counts"
   ]
  },
  {
   "cell_type": "code",
   "execution_count": 26,
   "metadata": {},
   "outputs": [
    {
     "data": {
      "image/png": "[encoded data removed]",
      "text/plain": [
       "<Figure size 1000x600 with 1 Axes>"
      ]
     },
     "metadata": {},
     "output_type": "display_data"
    }
   ],
   "source": [
    "plt.figure(figsize=(10, 6))\n",
    "sns.countplot(data=labeled_raw_data, x='Label', palette='Set2')\n",
    "plt.title('Phân bố số lượng mẫu cho mỗi lớp')\n",
    "plt.xlabel('Lớp (Class)')\n",
    "plt.ylabel('Số lượng')\n",
    "plt.show()"
   ]
  },
  {
   "cell_type": "markdown",
   "metadata": {},
   "source": [
    "#### Crawl thêm để cân bằng lại dữ liệu"
   ]
  },
  {
   "cell_type": "code",
   "execution_count": 5,
   "metadata": {},
   "outputs": [],
   "source": [
    "# 2022 - 2023\n",
    "# crawl_url = \"https://www.imdb.com/search/title/?release_date=2022-01-01,2023-09-26&sort=num_votes,desc,\" \\\n",
    "#             \"&start={}&ref_=adv_nxt\"\n",
    "\n",
    "# 2020\n",
    "crawl_url = \"https://www.imdb.com/search/title/?release_date=2020-01-01,2021-01-01&sort=num_votes,desc,\" \\\n",
    "            \"&start={}&ref_=adv_nxt\""
   ]
  },
  {
   "cell_type": "code",
   "execution_count": 19,
   "metadata": {},
   "outputs": [
    {
     "name": "stderr",
     "output_type": "stream",
     "text": [
      "100%|██████████| 50/50 [02:18<00:00,  2.78s/it]\n"
     ]
    }
   ],
   "source": [
    "additional_data_frame_3 = urls_crawl(page_range=range(0,50), crawl_url= crawl_url)"
   ]
  },
  {
   "cell_type": "code",
   "execution_count": 20,
   "metadata": {},
   "outputs": [
    {
     "data": {
      "text/html": [
       "<div>\n",
       "<style scoped>\n",
       "    .dataframe tbody tr th:only-of-type {\n",
       "        vertical-align: middle;\n",
       "    }\n",
       "\n",
       "    .dataframe tbody tr th {\n",
       "        vertical-align: top;\n",
       "    }\n",
       "\n",
       "    .dataframe thead th {\n",
       "        text-align: right;\n",
       "    }\n",
       "</style>\n",
       "<table border=\"1\" class=\"dataframe\">\n",
       "  <thead>\n",
       "    <tr style=\"text-align: right;\">\n",
       "      <th></th>\n",
       "      <th>review_urls</th>\n",
       "    </tr>\n",
       "  </thead>\n",
       "  <tbody>\n",
       "    <tr>\n",
       "      <th>0</th>\n",
       "      <td>https://www.imdb.com/title/tt6723592/reviews?s...</td>\n",
       "    </tr>\n",
       "    <tr>\n",
       "      <th>1</th>\n",
       "      <td>https://www.imdb.com/title/tt10048342/reviews?...</td>\n",
       "    </tr>\n",
       "    <tr>\n",
       "      <th>2</th>\n",
       "      <td>https://www.imdb.com/title/tt2948372/reviews?s...</td>\n",
       "    </tr>\n",
       "    <tr>\n",
       "      <th>3</th>\n",
       "      <td>https://www.imdb.com/title/tt10986410/reviews?...</td>\n",
       "    </tr>\n",
       "    <tr>\n",
       "      <th>4</th>\n",
       "      <td>https://www.imdb.com/title/tt7126948/reviews?s...</td>\n",
       "    </tr>\n",
       "    <tr>\n",
       "      <th>...</th>\n",
       "      <td>...</td>\n",
       "    </tr>\n",
       "    <tr>\n",
       "      <th>2495</th>\n",
       "      <td>https://www.imdb.com/title/tt8134186/reviews?s...</td>\n",
       "    </tr>\n",
       "    <tr>\n",
       "      <th>2496</th>\n",
       "      <td>https://www.imdb.com/title/tt8962124/reviews?s...</td>\n",
       "    </tr>\n",
       "    <tr>\n",
       "      <th>2497</th>\n",
       "      <td>https://www.imdb.com/title/tt2573372/reviews?s...</td>\n",
       "    </tr>\n",
       "    <tr>\n",
       "      <th>2498</th>\n",
       "      <td>https://www.imdb.com/title/tt11007186/reviews?...</td>\n",
       "    </tr>\n",
       "    <tr>\n",
       "      <th>2499</th>\n",
       "      <td>https://www.imdb.com/title/tt0388629/reviews?s...</td>\n",
       "    </tr>\n",
       "  </tbody>\n",
       "</table>\n",
       "<p>2500 rows × 1 columns</p>\n",
       "</div>"
      ],
      "text/plain": [
       "                                            review_urls\n",
       "0     https://www.imdb.com/title/tt6723592/reviews?s...\n",
       "1     https://www.imdb.com/title/tt10048342/reviews?...\n",
       "2     https://www.imdb.com/title/tt2948372/reviews?s...\n",
       "3     https://www.imdb.com/title/tt10986410/reviews?...\n",
       "4     https://www.imdb.com/title/tt7126948/reviews?s...\n",
       "...                                                 ...\n",
       "2495  https://www.imdb.com/title/tt8134186/reviews?s...\n",
       "2496  https://www.imdb.com/title/tt8962124/reviews?s...\n",
       "2497  https://www.imdb.com/title/tt2573372/reviews?s...\n",
       "2498  https://www.imdb.com/title/tt11007186/reviews?...\n",
       "2499  https://www.imdb.com/title/tt0388629/reviews?s...\n",
       "\n",
       "[2500 rows x 1 columns]"
      ]
     },
     "execution_count": 20,
     "metadata": {},
     "output_type": "execute_result"
    }
   ],
   "source": [
    "additional_data_frame_3"
   ]
  },
  {
   "cell_type": "markdown",
   "metadata": {},
   "source": [
    "##### Lọc trùng nhau"
   ]
  },
  {
   "cell_type": "code",
   "execution_count": 21,
   "metadata": {},
   "outputs": [
    {
     "name": "stdout",
     "output_type": "stream",
     "text": [
      "778\n"
     ]
    }
   ],
   "source": [
    "print(additional_data_frame_3.duplicated().sum())\n",
    "additional_data_frame_3 = additional_data_frame_3.drop_duplicates()"
   ]
  },
  {
   "cell_type": "code",
   "execution_count": 22,
   "metadata": {},
   "outputs": [
    {
     "data": {
      "text/html": [
       "<div>\n",
       "<style scoped>\n",
       "    .dataframe tbody tr th:only-of-type {\n",
       "        vertical-align: middle;\n",
       "    }\n",
       "\n",
       "    .dataframe tbody tr th {\n",
       "        vertical-align: top;\n",
       "    }\n",
       "\n",
       "    .dataframe thead th {\n",
       "        text-align: right;\n",
       "    }\n",
       "</style>\n",
       "<table border=\"1\" class=\"dataframe\">\n",
       "  <thead>\n",
       "    <tr style=\"text-align: right;\">\n",
       "      <th></th>\n",
       "      <th>review_urls</th>\n",
       "    </tr>\n",
       "  </thead>\n",
       "  <tbody>\n",
       "    <tr>\n",
       "      <th>0</th>\n",
       "      <td>https://www.imdb.com/title/tt6723592/reviews?s...</td>\n",
       "    </tr>\n",
       "    <tr>\n",
       "      <th>1</th>\n",
       "      <td>https://www.imdb.com/title/tt10048342/reviews?...</td>\n",
       "    </tr>\n",
       "    <tr>\n",
       "      <th>2</th>\n",
       "      <td>https://www.imdb.com/title/tt2948372/reviews?s...</td>\n",
       "    </tr>\n",
       "    <tr>\n",
       "      <th>3</th>\n",
       "      <td>https://www.imdb.com/title/tt10986410/reviews?...</td>\n",
       "    </tr>\n",
       "    <tr>\n",
       "      <th>4</th>\n",
       "      <td>https://www.imdb.com/title/tt7126948/reviews?s...</td>\n",
       "    </tr>\n",
       "    <tr>\n",
       "      <th>...</th>\n",
       "      <td>...</td>\n",
       "    </tr>\n",
       "    <tr>\n",
       "      <th>2483</th>\n",
       "      <td>https://www.imdb.com/title/tt9797932/reviews?s...</td>\n",
       "    </tr>\n",
       "    <tr>\n",
       "      <th>2487</th>\n",
       "      <td>https://www.imdb.com/title/tt9731360/reviews?s...</td>\n",
       "    </tr>\n",
       "    <tr>\n",
       "      <th>2488</th>\n",
       "      <td>https://www.imdb.com/title/tt11625100/reviews?...</td>\n",
       "    </tr>\n",
       "    <tr>\n",
       "      <th>2489</th>\n",
       "      <td>https://www.imdb.com/title/tt8200456/reviews?s...</td>\n",
       "    </tr>\n",
       "    <tr>\n",
       "      <th>2497</th>\n",
       "      <td>https://www.imdb.com/title/tt2573372/reviews?s...</td>\n",
       "    </tr>\n",
       "  </tbody>\n",
       "</table>\n",
       "<p>1722 rows × 1 columns</p>\n",
       "</div>"
      ],
      "text/plain": [
       "                                            review_urls\n",
       "0     https://www.imdb.com/title/tt6723592/reviews?s...\n",
       "1     https://www.imdb.com/title/tt10048342/reviews?...\n",
       "2     https://www.imdb.com/title/tt2948372/reviews?s...\n",
       "3     https://www.imdb.com/title/tt10986410/reviews?...\n",
       "4     https://www.imdb.com/title/tt7126948/reviews?s...\n",
       "...                                                 ...\n",
       "2483  https://www.imdb.com/title/tt9797932/reviews?s...\n",
       "2487  https://www.imdb.com/title/tt9731360/reviews?s...\n",
       "2488  https://www.imdb.com/title/tt11625100/reviews?...\n",
       "2489  https://www.imdb.com/title/tt8200456/reviews?s...\n",
       "2497  https://www.imdb.com/title/tt2573372/reviews?s...\n",
       "\n",
       "[1722 rows x 1 columns]"
      ]
     },
     "execution_count": 22,
     "metadata": {},
     "output_type": "execute_result"
    }
   ],
   "source": [
    "additional_data_frame_3"
   ]
  },
  {
   "cell_type": "code",
   "execution_count": 24,
   "metadata": {},
   "outputs": [],
   "source": [
    "df1 = pd.read_csv(\"data/additional_review_urls.csv\")\n",
    "df2 = pd.read_csv(\"data/additional_review_urls_2.csv\")\n",
    "df3 = pd.read_csv(\"data/review_urls.csv\")"
   ]
  },
  {
   "cell_type": "code",
   "execution_count": 18,
   "metadata": {},
   "outputs": [
    {
     "name": "stdout",
     "output_type": "stream",
     "text": [
      "Có các hàng giống nhau giữa hai tệp CSV.\n",
      "                                            review_urls _merge\n",
      "362   https://www.imdb.com/title/tt2560140/reviews?s...   both\n",
      "363   https://www.imdb.com/title/tt2560140/reviews?s...   both\n",
      "364   https://www.imdb.com/title/tt2560140/reviews?s...   both\n",
      "365   https://www.imdb.com/title/tt2560140/reviews?s...   both\n",
      "366   https://www.imdb.com/title/tt2560140/reviews?s...   both\n",
      "...                                                 ...    ...\n",
      "2167  https://www.imdb.com/title/tt0436992/reviews?s...   both\n",
      "2239  https://www.imdb.com/title/tt5555260/reviews?s...   both\n",
      "2240  https://www.imdb.com/title/tt5555260/reviews?s...   both\n",
      "2426  https://www.imdb.com/title/tt10795658/reviews?...   both\n",
      "2478  https://www.imdb.com/title/tt4236770/reviews?s...   both\n",
      "\n",
      "[226 rows x 2 columns]\n"
     ]
    }
   ],
   "source": [
    "# Chọn các cột cụ thể để so sánh\n",
    "columns_to_compare = ['review_urls']\n",
    "\n",
    "# Nối hai DataFrame theo các cột cụ thể\n",
    "merged_df = df3.merge(additional_data_frame_3, on=columns_to_compare, how='outer', indicator=True)\n",
    "\n",
    "# Lọc các hàng có giá trị chỉ mục là 'both' (tức là có trong cả hai DataFrame)\n",
    "common_rows = merged_df[merged_df['_merge'] == 'both']\n",
    "\n",
    "if not common_rows.empty:\n",
    "    print(\"Có các hàng giống nhau giữa hai tệp CSV.\")\n",
    "    print(common_rows)\n",
    "else:\n",
    "    print(\"Không có hàng nào giống nhau giữa hai tệp CSV.\")"
   ]
  },
  {
   "cell_type": "code",
   "execution_count": 36,
   "metadata": {},
   "outputs": [
    {
     "name": "stdout",
     "output_type": "stream",
     "text": [
      "DataFrame df2 sau khi loại bỏ các hàng trùng với df1:\n",
      "                                            review_urls\n",
      "0     https://www.imdb.com/title/tt6723592/reviews?s...\n",
      "1     https://www.imdb.com/title/tt10048342/reviews?...\n",
      "2     https://www.imdb.com/title/tt2948372/reviews?s...\n",
      "3     https://www.imdb.com/title/tt10986410/reviews?...\n",
      "4     https://www.imdb.com/title/tt7126948/reviews?s...\n",
      "...                                                 ...\n",
      "1926  https://www.imdb.com/title/tt9797932/reviews?s...\n",
      "1927  https://www.imdb.com/title/tt9731360/reviews?s...\n",
      "1928  https://www.imdb.com/title/tt11625100/reviews?...\n",
      "1929  https://www.imdb.com/title/tt8200456/reviews?s...\n",
      "1930  https://www.imdb.com/title/tt2573372/reviews?s...\n",
      "\n",
      "[1681 rows x 1 columns]\n"
     ]
    }
   ],
   "source": [
    "# Chọn các cột cụ thể để so sánh\n",
    "columns_to_compare = ['review_urls']\n",
    "\n",
    "# Nối hai DataFrame theo các cột cụ thể và sử dụng tham số 'indicator' để thêm cột chỉ mục\n",
    "merged_df = additional_data_frame_3.merge(df1[columns_to_compare], on=columns_to_compare, how='left', indicator=True)\n",
    "\n",
    "# Lọc các hàng có giá trị chỉ mục là 'left_only' (tức là chỉ xuất hiện trong df2)\n",
    "additional_data_frame_3_no_duplicates = merged_df[merged_df['_merge'] == 'left_only'].drop(columns=['_merge'])\n",
    "\n",
    "print(\"DataFrame df2 sau khi loại bỏ các hàng trùng với df1:\")\n",
    "print(additional_data_frame_3_no_duplicates)"
   ]
  },
  {
   "cell_type": "code",
   "execution_count": 37,
   "metadata": {},
   "outputs": [
    {
     "name": "stdout",
     "output_type": "stream",
     "text": [
      "DataFrame additional_data_frame_3 sau khi loại bỏ các hàng trùng với df2:\n",
      "                                            review_urls\n",
      "0     https://www.imdb.com/title/tt6723592/reviews?s...\n",
      "1     https://www.imdb.com/title/tt10048342/reviews?...\n",
      "2     https://www.imdb.com/title/tt2948372/reviews?s...\n",
      "3     https://www.imdb.com/title/tt10986410/reviews?...\n",
      "4     https://www.imdb.com/title/tt7126948/reviews?s...\n",
      "...                                                 ...\n",
      "1977  https://www.imdb.com/title/tt9797932/reviews?s...\n",
      "1978  https://www.imdb.com/title/tt9731360/reviews?s...\n",
      "1979  https://www.imdb.com/title/tt11625100/reviews?...\n",
      "1980  https://www.imdb.com/title/tt8200456/reviews?s...\n",
      "1981  https://www.imdb.com/title/tt2573372/reviews?s...\n",
      "\n",
      "[1641 rows x 1 columns]\n"
     ]
    }
   ],
   "source": [
    "# Chọn các cột cụ thể để so sánh\n",
    "columns_to_compare = ['review_urls']\n",
    "\n",
    "# Nối hai DataFrame theo các cột cụ thể và sử dụng tham số 'indicator' để thêm cột chỉ mục\n",
    "merged_df = additional_data_frame_3_no_duplicates.merge(df2[columns_to_compare], on=columns_to_compare, how='left', indicator=True)\n",
    "\n",
    "# Lọc các hàng có giá trị chỉ mục là 'left_only' (tức là chỉ xuất hiện trong df2)\n",
    "additional_data_frame_3_no_duplicates = merged_df[merged_df['_merge'] == 'left_only'].drop(columns=['_merge'])\n",
    "\n",
    "print(\"DataFrame additional_data_frame_3 sau khi loại bỏ các hàng trùng với df2:\")\n",
    "print(additional_data_frame_3_no_duplicates)"
   ]
  },
  {
   "cell_type": "code",
   "execution_count": 38,
   "metadata": {},
   "outputs": [
    {
     "name": "stdout",
     "output_type": "stream",
     "text": [
      "DataFrame additional_data_frame_3 sau khi loại bỏ các hàng trùng với df3:\n",
      "                                            review_urls\n",
      "0     https://www.imdb.com/title/tt6723592/reviews?s...\n",
      "1     https://www.imdb.com/title/tt10048342/reviews?...\n",
      "2     https://www.imdb.com/title/tt2948372/reviews?s...\n",
      "15    https://www.imdb.com/title/tt7126948/reviews?s...\n",
      "16    https://www.imdb.com/title/tt8332922/reviews?s...\n",
      "...                                                 ...\n",
      "1764  https://www.imdb.com/title/tt9797932/reviews?s...\n",
      "1765  https://www.imdb.com/title/tt9731360/reviews?s...\n",
      "1766  https://www.imdb.com/title/tt11625100/reviews?...\n",
      "1767  https://www.imdb.com/title/tt8200456/reviews?s...\n",
      "1768  https://www.imdb.com/title/tt2573372/reviews?s...\n",
      "\n",
      "[1628 rows x 1 columns]\n"
     ]
    }
   ],
   "source": [
    "# Chọn các cột cụ thể để so sánh\n",
    "columns_to_compare = ['review_urls']\n",
    "\n",
    "# Nối hai DataFrame theo các cột cụ thể và sử dụng tham số 'indicator' để thêm cột chỉ mục\n",
    "merged_df = additional_data_frame_3_no_duplicates.merge(df3[columns_to_compare], on=columns_to_compare, how='left', indicator=True)\n",
    "\n",
    "# Lọc các hàng có giá trị chỉ mục là 'left_only' (tức là chỉ xuất hiện trong df2)\n",
    "additional_data_frame_3_no_duplicates = merged_df[merged_df['_merge'] == 'left_only'].drop(columns=['_merge'])\n",
    "\n",
    "print(\"DataFrame additional_data_frame_3 sau khi loại bỏ các hàng trùng với df3:\")\n",
    "print(additional_data_frame_3_no_duplicates)"
   ]
  },
  {
   "cell_type": "code",
   "execution_count": 39,
   "metadata": {},
   "outputs": [
    {
     "name": "stdout",
     "output_type": "stream",
     "text": [
      "All data successfully added\n"
     ]
    }
   ],
   "source": [
    "additional_data_frame_3_no_duplicates.to_csv(\"data/additional_review_urls_3.csv\", index=False)\n",
    "print(\"All data successfully added\")"
   ]
  },
  {
   "cell_type": "markdown",
   "metadata": {},
   "source": [
    "#### Additional review crawl"
   ]
  },
  {
   "cell_type": "markdown",
   "metadata": {},
   "source": [
    "##### Batch 6-10"
   ]
  },
  {
   "cell_type": "code",
   "execution_count": 115,
   "metadata": {},
   "outputs": [
    {
     "data": {
      "text/html": [
       "<div>\n",
       "<style scoped>\n",
       "    .dataframe tbody tr th:only-of-type {\n",
       "        vertical-align: middle;\n",
       "    }\n",
       "\n",
       "    .dataframe tbody tr th {\n",
       "        vertical-align: top;\n",
       "    }\n",
       "\n",
       "    .dataframe thead th {\n",
       "        text-align: right;\n",
       "    }\n",
       "</style>\n",
       "<table border=\"1\" class=\"dataframe\">\n",
       "  <thead>\n",
       "    <tr style=\"text-align: right;\">\n",
       "      <th></th>\n",
       "      <th>review_urls</th>\n",
       "    </tr>\n",
       "  </thead>\n",
       "  <tbody>\n",
       "    <tr>\n",
       "      <th>0</th>\n",
       "      <td>https://www.imdb.com/title/tt14954666/reviews?...</td>\n",
       "    </tr>\n",
       "    <tr>\n",
       "      <th>1</th>\n",
       "      <td>https://www.imdb.com/title/tt13557082/reviews?...</td>\n",
       "    </tr>\n",
       "    <tr>\n",
       "      <th>2</th>\n",
       "      <td>https://www.imdb.com/title/tt4786824/reviews?s...</td>\n",
       "    </tr>\n",
       "    <tr>\n",
       "      <th>3</th>\n",
       "      <td>https://www.imdb.com/title/tt20100884/reviews?...</td>\n",
       "    </tr>\n",
       "    <tr>\n",
       "      <th>4</th>\n",
       "      <td>https://www.imdb.com/title/tt19800324/reviews?...</td>\n",
       "    </tr>\n",
       "    <tr>\n",
       "      <th>...</th>\n",
       "      <td>...</td>\n",
       "    </tr>\n",
       "    <tr>\n",
       "      <th>2495</th>\n",
       "      <td>https://www.imdb.com/title/tt7120662/reviews?s...</td>\n",
       "    </tr>\n",
       "    <tr>\n",
       "      <th>2496</th>\n",
       "      <td>https://www.imdb.com/title/tt12415670/reviews?...</td>\n",
       "    </tr>\n",
       "    <tr>\n",
       "      <th>2497</th>\n",
       "      <td>https://www.imdb.com/title/tt10574236/reviews?...</td>\n",
       "    </tr>\n",
       "    <tr>\n",
       "      <th>2498</th>\n",
       "      <td>https://www.imdb.com/title/tt14379784/reviews?...</td>\n",
       "    </tr>\n",
       "    <tr>\n",
       "      <th>2499</th>\n",
       "      <td>https://www.imdb.com/title/tt12074628/reviews?...</td>\n",
       "    </tr>\n",
       "  </tbody>\n",
       "</table>\n",
       "<p>2500 rows × 1 columns</p>\n",
       "</div>"
      ],
      "text/plain": [
       "                                            review_urls\n",
       "0     https://www.imdb.com/title/tt14954666/reviews?...\n",
       "1     https://www.imdb.com/title/tt13557082/reviews?...\n",
       "2     https://www.imdb.com/title/tt4786824/reviews?s...\n",
       "3     https://www.imdb.com/title/tt20100884/reviews?...\n",
       "4     https://www.imdb.com/title/tt19800324/reviews?...\n",
       "...                                                 ...\n",
       "2495  https://www.imdb.com/title/tt7120662/reviews?s...\n",
       "2496  https://www.imdb.com/title/tt12415670/reviews?...\n",
       "2497  https://www.imdb.com/title/tt10574236/reviews?...\n",
       "2498  https://www.imdb.com/title/tt14379784/reviews?...\n",
       "2499  https://www.imdb.com/title/tt12074628/reviews?...\n",
       "\n",
       "[2500 rows x 1 columns]"
      ]
     },
     "execution_count": 115,
     "metadata": {},
     "output_type": "execute_result"
    }
   ],
   "source": [
    "additional_review_urls = pd.read_csv(\"data/additional_review_urls.csv\")\n",
    "additional_review_urls"
   ]
  },
  {
   "cell_type": "markdown",
   "metadata": {},
   "source": [
    "Lọc chỉ lấy rate từ 1 tới 6 -> range(1,7)"
   ]
  },
  {
   "cell_type": "code",
   "execution_count": 61,
   "metadata": {},
   "outputs": [
    {
     "name": "stderr",
     "output_type": "stream",
     "text": [
      " 12%|█▏        | 58/500 [02:01<34:11,  4.64s/it]"
     ]
    },
    {
     "name": "stdout",
     "output_type": "stream",
     "text": [
      "Lỗi khi truy cập URL https://www.imdb.com/title/tt19781688/reviews?spoiler=hide&sort=curated&dir=desc&ratingFilter=0 ở vòng lặp thứ 58 : HTTPSConnectionPool(host='www.imdb.com', port=443): Read timed out.\n"
     ]
    },
    {
     "name": "stderr",
     "output_type": "stream",
     "text": [
      " 81%|████████  | 403/500 [12:15<02:16,  1.41s/it]"
     ]
    },
    {
     "name": "stdout",
     "output_type": "stream",
     "text": [
      "Lỗi khi truy cập URL https://www.imdb.com/title/tt5057054/reviews?spoiler=hide&sort=curated&dir=desc&ratingFilter=0 ở vòng lặp thứ 403 : ('Connection aborted.', ConnectionResetError(10054, 'An existing connection was forcibly closed by the remote host', None, 10054, None))\n"
     ]
    },
    {
     "name": "stderr",
     "output_type": "stream",
     "text": [
      " 86%|████████▌ | 429/500 [13:14<05:26,  4.60s/it]"
     ]
    },
    {
     "name": "stdout",
     "output_type": "stream",
     "text": [
      "Lỗi khi truy cập URL https://www.imdb.com/title/tt20855732/reviews?spoiler=hide&sort=curated&dir=desc&ratingFilter=0 ở vòng lặp thứ 429 : HTTPSConnectionPool(host='www.imdb.com', port=443): Read timed out.\n"
     ]
    },
    {
     "name": "stderr",
     "output_type": "stream",
     "text": [
      "100%|██████████| 500/500 [15:19<00:00,  1.84s/it]\n"
     ]
    },
    {
     "name": "stdout",
     "output_type": "stream",
     "text": [
      "All data successfully added\n"
     ]
    }
   ],
   "source": [
    "# --- Batch 6 --- \n",
    "rates, reviews = crawl(batch = additional_review_urls['review_urls'][0:500], rate_filter=range(1,7))\n",
    "# Store the data to csv format\n",
    "data_frame = pd.DataFrame({\n",
    "    \"Review\": reviews,\n",
    "    \"Rate\" : rates\n",
    "})\n",
    "\n",
    "data_frame.to_csv(\"data/batch6_IMDB_reviews.csv\", index=False)\n",
    "print(\"All data successfully added\")"
   ]
  },
  {
   "cell_type": "code",
   "execution_count": 66,
   "metadata": {},
   "outputs": [
    {
     "name": "stderr",
     "output_type": "stream",
     "text": [
      " 23%|██▎       | 117/500 [03:55<30:17,  4.75s/it]"
     ]
    },
    {
     "name": "stdout",
     "output_type": "stream",
     "text": [
      "Lỗi khi truy cập URL https://www.imdb.com/title/tt21051458/reviews?spoiler=hide&sort=curated&dir=desc&ratingFilter=0 ở vòng lặp thứ 117 : HTTPSConnectionPool(host='www.imdb.com', port=443): Read timed out.\n"
     ]
    },
    {
     "name": "stderr",
     "output_type": "stream",
     "text": [
      " 69%|██████▉   | 344/500 [11:11<12:19,  4.74s/it]"
     ]
    },
    {
     "name": "stdout",
     "output_type": "stream",
     "text": [
      "Lỗi khi truy cập URL https://www.imdb.com/title/tt21109538/reviews?spoiler=hide&sort=curated&dir=desc&ratingFilter=0 ở vòng lặp thứ 344 : HTTPSConnectionPool(host='www.imdb.com', port=443): Read timed out.\n"
     ]
    },
    {
     "name": "stderr",
     "output_type": "stream",
     "text": [
      "100%|██████████| 500/500 [15:59<00:00,  1.92s/it]\n"
     ]
    },
    {
     "name": "stdout",
     "output_type": "stream",
     "text": [
      "All data successfully added\n"
     ]
    }
   ],
   "source": [
    "# --- Batch 7 --- \n",
    "rates, reviews = crawl(batch = additional_review_urls['review_urls'][500:1000], rate_filter=range(1,7))\n",
    "# Store the data to csv format\n",
    "data_frame = pd.DataFrame({\n",
    "    \"Review\": reviews,\n",
    "    \"Rate\" : rates\n",
    "})\n",
    "\n",
    "data_frame.to_csv(\"data/batch7_IMDB_reviews.csv\", index=False)\n",
    "print(\"All data successfully added\")"
   ]
  },
  {
   "cell_type": "code",
   "execution_count": 67,
   "metadata": {},
   "outputs": [
    {
     "name": "stderr",
     "output_type": "stream",
     "text": [
      "  1%|▏         | 7/500 [00:20<39:16,  4.78s/it]"
     ]
    },
    {
     "name": "stdout",
     "output_type": "stream",
     "text": [
      "Lỗi khi truy cập URL https://www.imdb.com/title/tt28253602/reviews?spoiler=hide&sort=curated&dir=desc&ratingFilter=0 ở vòng lặp thứ 7 : HTTPSConnectionPool(host='www.imdb.com', port=443): Read timed out.\n"
     ]
    },
    {
     "name": "stderr",
     "output_type": "stream",
     "text": [
      " 72%|███████▏  | 362/500 [11:03<11:44,  5.11s/it]"
     ]
    },
    {
     "name": "stdout",
     "output_type": "stream",
     "text": [
      "Lỗi khi truy cập URL https://www.imdb.com/title/tt11006642/reviews?spoiler=hide&sort=curated&dir=desc&ratingFilter=0 ở vòng lặp thứ 362 : HTTPSConnectionPool(host='www.imdb.com', port=443): Read timed out.\n"
     ]
    },
    {
     "name": "stderr",
     "output_type": "stream",
     "text": [
      " 95%|█████████▌| 476/500 [14:35<01:51,  4.64s/it]"
     ]
    },
    {
     "name": "stdout",
     "output_type": "stream",
     "text": [
      "Lỗi khi truy cập URL https://www.imdb.com/title/tt14206696/reviews?spoiler=hide&sort=curated&dir=desc&ratingFilter=0 ở vòng lặp thứ 476 : HTTPSConnectionPool(host='www.imdb.com', port=443): Read timed out.\n"
     ]
    },
    {
     "name": "stderr",
     "output_type": "stream",
     "text": [
      "100%|██████████| 500/500 [15:17<00:00,  1.84s/it]\n"
     ]
    },
    {
     "name": "stdout",
     "output_type": "stream",
     "text": [
      "All data successfully added\n"
     ]
    }
   ],
   "source": [
    "# --- Batch 8 --- \n",
    "rates, reviews = crawl(batch = additional_review_urls['review_urls'][1000:1500], rate_filter=range(1,7))\n",
    "# Store the data to csv format\n",
    "data_frame = pd.DataFrame({\n",
    "    \"Review\": reviews,\n",
    "    \"Rate\" : rates\n",
    "})\n",
    "\n",
    "data_frame.to_csv(\"data/batch8_IMDB_reviews.csv\", index=False)\n",
    "print(\"All data successfully added\")"
   ]
  },
  {
   "cell_type": "code",
   "execution_count": 68,
   "metadata": {},
   "outputs": [
    {
     "name": "stderr",
     "output_type": "stream",
     "text": [
      " 55%|█████▍    | 274/500 [08:06<17:25,  4.62s/it]"
     ]
    },
    {
     "name": "stdout",
     "output_type": "stream",
     "text": [
      "Lỗi khi truy cập URL https://www.imdb.com/title/tt14690552/reviews?spoiler=hide&sort=curated&dir=desc&ratingFilter=0 ở vòng lặp thứ 274 : HTTPSConnectionPool(host='www.imdb.com', port=443): Read timed out.\n"
     ]
    },
    {
     "name": "stderr",
     "output_type": "stream",
     "text": [
      " 95%|█████████▌| 475/500 [14:09<01:56,  4.67s/it]"
     ]
    },
    {
     "name": "stdout",
     "output_type": "stream",
     "text": [
      "Lỗi khi truy cập URL https://www.imdb.com/title/tt14275050/reviews?spoiler=hide&sort=curated&dir=desc&ratingFilter=0 ở vòng lặp thứ 475 : HTTPSConnectionPool(host='www.imdb.com', port=443): Read timed out.\n"
     ]
    },
    {
     "name": "stderr",
     "output_type": "stream",
     "text": [
      "100%|██████████| 500/500 [14:56<00:00,  1.79s/it]\n"
     ]
    },
    {
     "name": "stdout",
     "output_type": "stream",
     "text": [
      "All data successfully added\n"
     ]
    }
   ],
   "source": [
    "# --- Batch 9 --- \n",
    "rates, reviews = crawl(batch = additional_review_urls['review_urls'][1500:2000], rate_filter=range(1,7))\n",
    "# Store the data to csv format\n",
    "data_frame = pd.DataFrame({\n",
    "    \"Review\": reviews,\n",
    "    \"Rate\" : rates\n",
    "})\n",
    "\n",
    "data_frame.to_csv(\"data/batch9_IMDB_reviews.csv\", index=False)\n",
    "print(\"All data successfully added\")"
   ]
  },
  {
   "cell_type": "code",
   "execution_count": 69,
   "metadata": {},
   "outputs": [
    {
     "name": "stderr",
     "output_type": "stream",
     "text": [
      " 43%|████▎     | 215/500 [06:32<21:39,  4.56s/it]"
     ]
    },
    {
     "name": "stdout",
     "output_type": "stream",
     "text": [
      "Lỗi khi truy cập URL https://www.imdb.com/title/tt12948838/reviews?spoiler=hide&sort=curated&dir=desc&ratingFilter=0 ở vòng lặp thứ 215 : HTTPSConnectionPool(host='www.imdb.com', port=443): Read timed out.\n"
     ]
    },
    {
     "name": "stderr",
     "output_type": "stream",
     "text": [
      " 91%|█████████ | 455/500 [13:50<03:26,  4.59s/it]"
     ]
    },
    {
     "name": "stdout",
     "output_type": "stream",
     "text": [
      "Lỗi khi truy cập URL https://www.imdb.com/title/tt17550758/reviews?spoiler=hide&sort=curated&dir=desc&ratingFilter=0 ở vòng lặp thứ 455 : HTTPSConnectionPool(host='www.imdb.com', port=443): Read timed out.\n"
     ]
    },
    {
     "name": "stderr",
     "output_type": "stream",
     "text": [
      "100%|██████████| 500/500 [15:09<00:00,  1.82s/it]\n"
     ]
    },
    {
     "name": "stdout",
     "output_type": "stream",
     "text": [
      "All data successfully added\n"
     ]
    }
   ],
   "source": [
    "# --- Batch 10 --- \n",
    "rates, reviews = crawl(batch = additional_review_urls['review_urls'][2000:], rate_filter=range(1,7))\n",
    "# Store the data to csv format\n",
    "data_frame = pd.DataFrame({\n",
    "    \"Review\": reviews,\n",
    "    \"Rate\" : rates\n",
    "})\n",
    "\n",
    "data_frame.to_csv(\"data/batch10_IMDB_reviews.csv\", index=False)\n",
    "print(\"All data successfully added\")"
   ]
  },
  {
   "cell_type": "markdown",
   "metadata": {},
   "source": [
    "##### Batch 11-20"
   ]
  },
  {
   "cell_type": "code",
   "execution_count": 80,
   "metadata": {},
   "outputs": [
    {
     "data": {
      "text/html": [
       "<div>\n",
       "<style scoped>\n",
       "    .dataframe tbody tr th:only-of-type {\n",
       "        vertical-align: middle;\n",
       "    }\n",
       "\n",
       "    .dataframe tbody tr th {\n",
       "        vertical-align: top;\n",
       "    }\n",
       "\n",
       "    .dataframe thead th {\n",
       "        text-align: right;\n",
       "    }\n",
       "</style>\n",
       "<table border=\"1\" class=\"dataframe\">\n",
       "  <thead>\n",
       "    <tr style=\"text-align: right;\">\n",
       "      <th></th>\n",
       "      <th>review_urls</th>\n",
       "    </tr>\n",
       "  </thead>\n",
       "  <tbody>\n",
       "    <tr>\n",
       "      <th>0</th>\n",
       "      <td>https://www.imdb.com/title/tt12074628/reviews?...</td>\n",
       "    </tr>\n",
       "    <tr>\n",
       "      <th>1</th>\n",
       "      <td>https://www.imdb.com/title/tt14590210/reviews?...</td>\n",
       "    </tr>\n",
       "    <tr>\n",
       "      <th>2</th>\n",
       "      <td>https://www.imdb.com/title/tt28228754/reviews?...</td>\n",
       "    </tr>\n",
       "    <tr>\n",
       "      <th>3</th>\n",
       "      <td>https://www.imdb.com/title/tt27161773/reviews?...</td>\n",
       "    </tr>\n",
       "    <tr>\n",
       "      <th>4</th>\n",
       "      <td>https://www.imdb.com/title/tt13358054/reviews?...</td>\n",
       "    </tr>\n",
       "    <tr>\n",
       "      <th>...</th>\n",
       "      <td>...</td>\n",
       "    </tr>\n",
       "    <tr>\n",
       "      <th>4995</th>\n",
       "      <td>https://www.imdb.com/title/tt10869834/reviews?...</td>\n",
       "    </tr>\n",
       "    <tr>\n",
       "      <th>4996</th>\n",
       "      <td>https://www.imdb.com/title/tt14772170/reviews?...</td>\n",
       "    </tr>\n",
       "    <tr>\n",
       "      <th>4997</th>\n",
       "      <td>https://www.imdb.com/title/tt21161156/reviews?...</td>\n",
       "    </tr>\n",
       "    <tr>\n",
       "      <th>4998</th>\n",
       "      <td>https://www.imdb.com/title/tt6524350/reviews?s...</td>\n",
       "    </tr>\n",
       "    <tr>\n",
       "      <th>4999</th>\n",
       "      <td>https://www.imdb.com/title/tt10050772/reviews?...</td>\n",
       "    </tr>\n",
       "  </tbody>\n",
       "</table>\n",
       "<p>5000 rows × 1 columns</p>\n",
       "</div>"
      ],
      "text/plain": [
       "                                            review_urls\n",
       "0     https://www.imdb.com/title/tt12074628/reviews?...\n",
       "1     https://www.imdb.com/title/tt14590210/reviews?...\n",
       "2     https://www.imdb.com/title/tt28228754/reviews?...\n",
       "3     https://www.imdb.com/title/tt27161773/reviews?...\n",
       "4     https://www.imdb.com/title/tt13358054/reviews?...\n",
       "...                                                 ...\n",
       "4995  https://www.imdb.com/title/tt10869834/reviews?...\n",
       "4996  https://www.imdb.com/title/tt14772170/reviews?...\n",
       "4997  https://www.imdb.com/title/tt21161156/reviews?...\n",
       "4998  https://www.imdb.com/title/tt6524350/reviews?s...\n",
       "4999  https://www.imdb.com/title/tt10050772/reviews?...\n",
       "\n",
       "[5000 rows x 1 columns]"
      ]
     },
     "execution_count": 80,
     "metadata": {},
     "output_type": "execute_result"
    }
   ],
   "source": [
    "additional_review_urls_2 = pd.read_csv(\"data/additional_review_urls_2.csv\")\n",
    "additional_review_urls_2"
   ]
  },
  {
   "cell_type": "markdown",
   "metadata": {},
   "source": [
    "Lọc chỉ lấy rate từ 1 tới 6 -> range(1,7)"
   ]
  },
  {
   "cell_type": "code",
   "execution_count": 92,
   "metadata": {},
   "outputs": [
    {
     "name": "stderr",
     "output_type": "stream",
     "text": [
      " 24%|██▍       | 121/500 [03:15<10:48,  1.71s/it]"
     ]
    },
    {
     "name": "stdout",
     "output_type": "stream",
     "text": [
      "Lỗi khi truy cập URL https://www.imdb.com/title/tt3007572/reviews?spoiler=hide&sort=curated&dir=desc&ratingFilter=0 ở vòng lặp thứ 121 : (\"Connection broken: ConnectionResetError(10054, 'An existing connection was forcibly closed by the remote host', None, 10054, None)\", ConnectionResetError(10054, 'An existing connection was forcibly closed by the remote host', None, 10054, None))\n"
     ]
    },
    {
     "name": "stderr",
     "output_type": "stream",
     "text": [
      " 70%|██████▉   | 348/500 [10:08<12:05,  4.78s/it]"
     ]
    },
    {
     "name": "stdout",
     "output_type": "stream",
     "text": [
      "Lỗi khi truy cập URL https://www.imdb.com/title/tt19719862/reviews?spoiler=hide&sort=curated&dir=desc&ratingFilter=0 ở vòng lặp thứ 348 : HTTPSConnectionPool(host='www.imdb.com', port=443): Read timed out.\n"
     ]
    },
    {
     "name": "stderr",
     "output_type": "stream",
     "text": [
      "100%|██████████| 500/500 [14:38<00:00,  1.76s/it]\n"
     ]
    },
    {
     "name": "stdout",
     "output_type": "stream",
     "text": [
      "All data successfully added\n"
     ]
    }
   ],
   "source": [
    "# --- Batch 11 --- \n",
    "rates, reviews = crawl(batch = additional_review_urls_2['review_urls'][0:500], rate_filter=range(1,7))\n",
    "# Store the data to csv format\n",
    "data_frame = pd.DataFrame({\n",
    "    \"Review\": reviews,\n",
    "    \"Rate\" : rates\n",
    "})\n",
    "\n",
    "data_frame.to_csv(\"data/batch11_IMDB_reviews.csv\", index=False)\n",
    "print(\"All data successfully added\")"
   ]
  },
  {
   "cell_type": "code",
   "execution_count": 93,
   "metadata": {},
   "outputs": [
    {
     "name": "stderr",
     "output_type": "stream",
     "text": [
      "  9%|▉         | 47/500 [01:23<14:06,  1.87s/it]"
     ]
    },
    {
     "name": "stdout",
     "output_type": "stream",
     "text": [
      "Lỗi khi truy cập URL https://www.imdb.com/title/tt11771270/reviews?spoiler=hide&sort=curated&dir=desc&ratingFilter=0 ở vòng lặp thứ 47 : (\"Connection broken: ConnectionResetError(10054, 'An existing connection was forcibly closed by the remote host', None, 10054, None)\", ConnectionResetError(10054, 'An existing connection was forcibly closed by the remote host', None, 10054, None))\n"
     ]
    },
    {
     "name": "stderr",
     "output_type": "stream",
     "text": [
      " 15%|█▍        | 74/500 [02:21<33:07,  4.67s/it]"
     ]
    },
    {
     "name": "stdout",
     "output_type": "stream",
     "text": [
      "Lỗi khi truy cập URL https://www.imdb.com/title/tt14369952/reviews?spoiler=hide&sort=curated&dir=desc&ratingFilter=0 ở vòng lặp thứ 74 : HTTPSConnectionPool(host='www.imdb.com', port=443): Read timed out.\n"
     ]
    },
    {
     "name": "stderr",
     "output_type": "stream",
     "text": [
      " 62%|██████▏   | 312/500 [09:25<04:57,  1.58s/it]"
     ]
    },
    {
     "name": "stdout",
     "output_type": "stream",
     "text": [
      "Lỗi khi truy cập URL https://www.imdb.com/title/tt25134264/reviews?spoiler=hide&sort=curated&dir=desc&ratingFilter=0 ở vòng lặp thứ 312 : ('Connection aborted.', ConnectionResetError(10054, 'An existing connection was forcibly closed by the remote host', None, 10054, None))\n"
     ]
    },
    {
     "name": "stderr",
     "output_type": "stream",
     "text": [
      " 68%|██████▊   | 341/500 [10:25<12:04,  4.56s/it]"
     ]
    },
    {
     "name": "stdout",
     "output_type": "stream",
     "text": [
      "Lỗi khi truy cập URL https://www.imdb.com/title/tt14016500/reviews?spoiler=hide&sort=curated&dir=desc&ratingFilter=0 ở vòng lặp thứ 341 : HTTPSConnectionPool(host='www.imdb.com', port=443): Read timed out.\n"
     ]
    },
    {
     "name": "stderr",
     "output_type": "stream",
     "text": [
      " 81%|████████  | 406/500 [12:24<03:02,  1.94s/it]"
     ]
    },
    {
     "name": "stdout",
     "output_type": "stream",
     "text": [
      "Lỗi khi truy cập URL https://www.imdb.com/title/tt11324406/reviews?spoiler=hide&sort=curated&dir=desc&ratingFilter=0 ở vòng lặp thứ 406 : (\"Connection broken: ConnectionResetError(10054, 'An existing connection was forcibly closed by the remote host', None, 10054, None)\", ConnectionResetError(10054, 'An existing connection was forcibly closed by the remote host', None, 10054, None))\n"
     ]
    },
    {
     "name": "stderr",
     "output_type": "stream",
     "text": [
      "100%|██████████| 500/500 [15:10<00:00,  1.82s/it]\n"
     ]
    },
    {
     "name": "stdout",
     "output_type": "stream",
     "text": [
      "All data successfully added\n"
     ]
    }
   ],
   "source": [
    "# --- Batch 12 --- \n",
    "rates, reviews = crawl(batch = additional_review_urls_2['review_urls'][500:1000], rate_filter=range(1,7))\n",
    "# Store the data to csv format\n",
    "data_frame = pd.DataFrame({\n",
    "    \"Review\": reviews,\n",
    "    \"Rate\" : rates\n",
    "})\n",
    "\n",
    "data_frame.to_csv(\"data/batch12_IMDB_reviews.csv\", index=False)\n",
    "print(\"All data successfully added\")"
   ]
  },
  {
   "cell_type": "code",
   "execution_count": 94,
   "metadata": {},
   "outputs": [
    {
     "name": "stderr",
     "output_type": "stream",
     "text": [
      " 16%|█▌        | 81/500 [02:30<33:35,  4.81s/it]"
     ]
    },
    {
     "name": "stdout",
     "output_type": "stream",
     "text": [
      "Lỗi khi truy cập URL https://www.imdb.com/title/tt7440726/reviews?spoiler=hide&sort=curated&dir=desc&ratingFilter=0 ở vòng lặp thứ 81 : HTTPSConnectionPool(host='www.imdb.com', port=443): Read timed out.\n"
     ]
    },
    {
     "name": "stderr",
     "output_type": "stream",
     "text": [
      " 61%|██████    | 306/500 [09:22<15:02,  4.65s/it]"
     ]
    },
    {
     "name": "stdout",
     "output_type": "stream",
     "text": [
      "Lỗi khi truy cập URL https://www.imdb.com/title/tt15248880/reviews?spoiler=hide&sort=curated&dir=desc&ratingFilter=0 ở vòng lặp thứ 306 : HTTPSConnectionPool(host='www.imdb.com', port=443): Read timed out.\n"
     ]
    },
    {
     "name": "stderr",
     "output_type": "stream",
     "text": [
      "100%|██████████| 500/500 [15:00<00:00,  1.80s/it]\n"
     ]
    },
    {
     "name": "stdout",
     "output_type": "stream",
     "text": [
      "All data successfully added\n"
     ]
    }
   ],
   "source": [
    "# --- Batch 13 --- \n",
    "rates, reviews = crawl(batch = additional_review_urls_2['review_urls'][1000:1500], rate_filter=range(1,7))\n",
    "# Store the data to csv format\n",
    "data_frame = pd.DataFrame({\n",
    "    \"Review\": reviews,\n",
    "    \"Rate\" : rates\n",
    "})\n",
    "\n",
    "data_frame.to_csv(\"data/batch13_IMDB_reviews.csv\", index=False)\n",
    "print(\"All data successfully added\")"
   ]
  },
  {
   "cell_type": "code",
   "execution_count": 95,
   "metadata": {},
   "outputs": [
    {
     "name": "stderr",
     "output_type": "stream",
     "text": [
      " 58%|█████▊    | 290/500 [08:55<16:47,  4.80s/it]"
     ]
    },
    {
     "name": "stdout",
     "output_type": "stream",
     "text": [
      "Lỗi khi truy cập URL https://www.imdb.com/title/tt27590147/reviews?spoiler=hide&sort=curated&dir=desc&ratingFilter=0 ở vòng lặp thứ 290 : HTTPSConnectionPool(host='www.imdb.com', port=443): Read timed out.\n"
     ]
    },
    {
     "name": "stderr",
     "output_type": "stream",
     "text": [
      "100%|██████████| 500/500 [15:09<00:00,  1.82s/it]\n"
     ]
    },
    {
     "name": "stdout",
     "output_type": "stream",
     "text": [
      "All data successfully added\n"
     ]
    }
   ],
   "source": [
    "# --- Batch 14 --- \n",
    "rates, reviews = crawl(batch = additional_review_urls_2['review_urls'][1500:2000], rate_filter=range(1,7))\n",
    "# Store the data to csv format\n",
    "data_frame = pd.DataFrame({\n",
    "    \"Review\": reviews,\n",
    "    \"Rate\" : rates\n",
    "})\n",
    "\n",
    "data_frame.to_csv(\"data/batch14_IMDB_reviews.csv\", index=False)\n",
    "print(\"All data successfully added\")"
   ]
  },
  {
   "cell_type": "code",
   "execution_count": 96,
   "metadata": {},
   "outputs": [
    {
     "name": "stderr",
     "output_type": "stream",
     "text": [
      "  6%|▌         | 30/500 [01:01<36:15,  4.63s/it]"
     ]
    },
    {
     "name": "stdout",
     "output_type": "stream",
     "text": [
      "Lỗi khi truy cập URL https://www.imdb.com/title/tt13195218/reviews?spoiler=hide&sort=curated&dir=desc&ratingFilter=0 ở vòng lặp thứ 30 : HTTPSConnectionPool(host='www.imdb.com', port=443): Read timed out.\n"
     ]
    },
    {
     "name": "stderr",
     "output_type": "stream",
     "text": [
      " 23%|██▎       | 115/500 [03:33<28:21,  4.42s/it]"
     ]
    },
    {
     "name": "stdout",
     "output_type": "stream",
     "text": [
      "Lỗi khi truy cập URL https://www.imdb.com/title/tt14507354/reviews?spoiler=hide&sort=curated&dir=desc&ratingFilter=0 ở vòng lặp thứ 115 : HTTPSConnectionPool(host='www.imdb.com', port=443): Max retries exceeded with url: /title/tt14507354/reviews?spoiler=hide&sort=curated&dir=desc&ratingFilter=0 (Caused by NewConnectionError('<urllib3.connection.HTTPSConnection object at 0x0000018F6A7D7A00>: Failed to establish a new connection: [Errno 11001] getaddrinfo failed'))\n"
     ]
    },
    {
     "name": "stderr",
     "output_type": "stream",
     "text": [
      " 92%|█████████▏| 461/500 [13:39<03:07,  4.80s/it]"
     ]
    },
    {
     "name": "stdout",
     "output_type": "stream",
     "text": [
      "Lỗi khi truy cập URL https://www.imdb.com/title/tt21227238/reviews?spoiler=hide&sort=curated&dir=desc&ratingFilter=0 ở vòng lặp thứ 461 : HTTPSConnectionPool(host='www.imdb.com', port=443): Read timed out.\n"
     ]
    },
    {
     "name": "stderr",
     "output_type": "stream",
     "text": [
      "100%|██████████| 500/500 [14:49<00:00,  1.78s/it]\n"
     ]
    },
    {
     "name": "stdout",
     "output_type": "stream",
     "text": [
      "All data successfully added\n"
     ]
    }
   ],
   "source": [
    "# --- Batch 15 --- \n",
    "rates, reviews = crawl(batch = additional_review_urls_2['review_urls'][2000:2500], rate_filter=range(1,7))\n",
    "# Store the data to csv format\n",
    "data_frame = pd.DataFrame({\n",
    "    \"Review\": reviews,\n",
    "    \"Rate\" : rates\n",
    "})\n",
    "\n",
    "data_frame.to_csv(\"data/batch15_IMDB_reviews.csv\", index=False)\n",
    "print(\"All data successfully added\")"
   ]
  },
  {
   "cell_type": "code",
   "execution_count": 97,
   "metadata": {},
   "outputs": [
    {
     "name": "stderr",
     "output_type": "stream",
     "text": [
      " 41%|████▏     | 207/500 [06:08<22:10,  4.54s/it]"
     ]
    },
    {
     "name": "stdout",
     "output_type": "stream",
     "text": [
      "Lỗi khi truy cập URL https://www.imdb.com/title/tt20859904/reviews?spoiler=hide&sort=curated&dir=desc&ratingFilter=0 ở vòng lặp thứ 207 : HTTPSConnectionPool(host='www.imdb.com', port=443): Read timed out.\n"
     ]
    },
    {
     "name": "stderr",
     "output_type": "stream",
     "text": [
      "100%|██████████| 500/500 [14:26<00:00,  1.73s/it]\n"
     ]
    },
    {
     "name": "stdout",
     "output_type": "stream",
     "text": [
      "All data successfully added\n"
     ]
    }
   ],
   "source": [
    "# --- Batch 16 --- \n",
    "rates, reviews = crawl(batch = additional_review_urls_2['review_urls'][2500:3000], rate_filter=range(1,7))\n",
    "# Store the data to csv format\n",
    "data_frame = pd.DataFrame({\n",
    "    \"Review\": reviews,\n",
    "    \"Rate\" : rates\n",
    "})\n",
    "\n",
    "data_frame.to_csv(\"data/batch16_IMDB_reviews.csv\", index=False)\n",
    "print(\"All data successfully added\")"
   ]
  },
  {
   "cell_type": "code",
   "execution_count": 98,
   "metadata": {},
   "outputs": [
    {
     "name": "stderr",
     "output_type": "stream",
     "text": [
      " 14%|█▍        | 69/500 [02:19<33:22,  4.65s/it]"
     ]
    },
    {
     "name": "stdout",
     "output_type": "stream",
     "text": [
      "Lỗi khi truy cập URL https://www.imdb.com/title/tt0808491/reviews?spoiler=hide&sort=curated&dir=desc&ratingFilter=0 ở vòng lặp thứ 69 : HTTPSConnectionPool(host='www.imdb.com', port=443): Read timed out.\n"
     ]
    },
    {
     "name": "stderr",
     "output_type": "stream",
     "text": [
      " 14%|█▍        | 72/500 [02:24<18:05,  2.54s/it]"
     ]
    },
    {
     "name": "stdout",
     "output_type": "stream",
     "text": [
      "Lỗi khi truy cập URL https://www.imdb.com/title/tt2077823/reviews?spoiler=hide&sort=curated&dir=desc&ratingFilter=0 ở vòng lặp thứ 72 : (\"Connection broken: ConnectionResetError(10054, 'An existing connection was forcibly closed by the remote host', None, 10054, None)\", ConnectionResetError(10054, 'An existing connection was forcibly closed by the remote host', None, 10054, None))\n"
     ]
    },
    {
     "name": "stderr",
     "output_type": "stream",
     "text": [
      " 19%|█▉        | 96/500 [03:07<12:10,  1.81s/it]"
     ]
    },
    {
     "name": "stdout",
     "output_type": "stream",
     "text": [
      "Lỗi khi truy cập URL https://www.imdb.com/title/tt14134334/reviews?spoiler=hide&sort=curated&dir=desc&ratingFilter=0 ở vòng lặp thứ 96 : (\"Connection broken: ConnectionResetError(10054, 'An existing connection was forcibly closed by the remote host', None, 10054, None)\", ConnectionResetError(10054, 'An existing connection was forcibly closed by the remote host', None, 10054, None))\n"
     ]
    },
    {
     "name": "stderr",
     "output_type": "stream",
     "text": [
      " 95%|█████████▌| 477/500 [14:18<01:43,  4.52s/it]"
     ]
    },
    {
     "name": "stdout",
     "output_type": "stream",
     "text": [
      "Lỗi khi truy cập URL https://www.imdb.com/title/tt10813940/reviews?spoiler=hide&sort=curated&dir=desc&ratingFilter=0 ở vòng lặp thứ 477 : HTTPSConnectionPool(host='www.imdb.com', port=443): Read timed out.\n"
     ]
    },
    {
     "name": "stderr",
     "output_type": "stream",
     "text": [
      "100%|██████████| 500/500 [14:55<00:00,  1.79s/it]\n"
     ]
    },
    {
     "name": "stdout",
     "output_type": "stream",
     "text": [
      "All data successfully added\n"
     ]
    }
   ],
   "source": [
    "# --- Batch 17 --- \n",
    "rates, reviews = crawl(batch = additional_review_urls_2['review_urls'][3000:3500], rate_filter=range(1,7))\n",
    "# Store the data to csv format\n",
    "data_frame = pd.DataFrame({\n",
    "    \"Review\": reviews,\n",
    "    \"Rate\" : rates\n",
    "})\n",
    "\n",
    "data_frame.to_csv(\"data/batch17_IMDB_reviews.csv\", index=False)\n",
    "print(\"All data successfully added\")"
   ]
  },
  {
   "cell_type": "code",
   "execution_count": 99,
   "metadata": {},
   "outputs": [
    {
     "name": "stderr",
     "output_type": "stream",
     "text": [
      " 43%|████▎     | 214/500 [06:24<21:44,  4.56s/it]"
     ]
    },
    {
     "name": "stdout",
     "output_type": "stream",
     "text": [
      "Lỗi khi truy cập URL https://www.imdb.com/title/tt15487922/reviews?spoiler=hide&sort=curated&dir=desc&ratingFilter=0 ở vòng lặp thứ 214 : HTTPSConnectionPool(host='www.imdb.com', port=443): Read timed out.\n"
     ]
    },
    {
     "name": "stderr",
     "output_type": "stream",
     "text": [
      " 88%|████████▊ | 442/500 [13:19<04:26,  4.59s/it]"
     ]
    },
    {
     "name": "stdout",
     "output_type": "stream",
     "text": [
      "Lỗi khi truy cập URL https://www.imdb.com/title/tt13760386/reviews?spoiler=hide&sort=curated&dir=desc&ratingFilter=0 ở vòng lặp thứ 442 : HTTPSConnectionPool(host='www.imdb.com', port=443): Read timed out.\n"
     ]
    },
    {
     "name": "stderr",
     "output_type": "stream",
     "text": [
      "100%|██████████| 500/500 [14:58<00:00,  1.80s/it]\n"
     ]
    },
    {
     "name": "stdout",
     "output_type": "stream",
     "text": [
      "All data successfully added\n"
     ]
    }
   ],
   "source": [
    "# --- Batch 18 --- \n",
    "rates, reviews = crawl(batch = additional_review_urls_2['review_urls'][3500:4000], rate_filter=range(1,7))\n",
    "# Store the data to csv format\n",
    "data_frame = pd.DataFrame({\n",
    "    \"Review\": reviews,\n",
    "    \"Rate\" : rates\n",
    "})\n",
    "\n",
    "data_frame.to_csv(\"data/batch18_IMDB_reviews.csv\", index=False)\n",
    "print(\"All data successfully added\")"
   ]
  },
  {
   "cell_type": "code",
   "execution_count": 100,
   "metadata": {},
   "outputs": [
    {
     "name": "stderr",
     "output_type": "stream",
     "text": [
      " 26%|██▋       | 132/500 [04:02<29:02,  4.73s/it]"
     ]
    },
    {
     "name": "stdout",
     "output_type": "stream",
     "text": [
      "Lỗi khi truy cập URL https://www.imdb.com/title/tt14446288/reviews?spoiler=hide&sort=curated&dir=desc&ratingFilter=0 ở vòng lặp thứ 132 : HTTPSConnectionPool(host='www.imdb.com', port=443): Read timed out.\n"
     ]
    },
    {
     "name": "stderr",
     "output_type": "stream",
     "text": [
      " 59%|█████▉    | 297/500 [08:55<16:50,  4.98s/it]"
     ]
    },
    {
     "name": "stdout",
     "output_type": "stream",
     "text": [
      "Lỗi khi truy cập URL https://www.imdb.com/title/tt14500082/reviews?spoiler=hide&sort=curated&dir=desc&ratingFilter=0 ở vòng lặp thứ 297 : HTTPSConnectionPool(host='www.imdb.com', port=443): Read timed out.\n"
     ]
    },
    {
     "name": "stderr",
     "output_type": "stream",
     "text": [
      "100%|██████████| 500/500 [14:57<00:00,  1.79s/it]\n"
     ]
    },
    {
     "name": "stdout",
     "output_type": "stream",
     "text": [
      "All data successfully added\n"
     ]
    }
   ],
   "source": [
    "# --- Batch 19 --- \n",
    "rates, reviews = crawl(batch = additional_review_urls_2['review_urls'][4000:4500], rate_filter=range(1,7))\n",
    "# Store the data to csv format\n",
    "data_frame = pd.DataFrame({\n",
    "    \"Review\": reviews,\n",
    "    \"Rate\" : rates\n",
    "})\n",
    "\n",
    "data_frame.to_csv(\"data/batch19_IMDB_reviews.csv\", index=False)\n",
    "print(\"All data successfully added\")"
   ]
  },
  {
   "cell_type": "code",
   "execution_count": 101,
   "metadata": {},
   "outputs": [
    {
     "name": "stderr",
     "output_type": "stream",
     "text": [
      "  4%|▍         | 20/500 [00:49<37:31,  4.69s/it]"
     ]
    },
    {
     "name": "stdout",
     "output_type": "stream",
     "text": [
      "Lỗi khi truy cập URL https://www.imdb.com/title/tt27208330/reviews?spoiler=hide&sort=curated&dir=desc&ratingFilter=0 ở vòng lặp thứ 20 : HTTPSConnectionPool(host='www.imdb.com', port=443): Read timed out.\n"
     ]
    },
    {
     "name": "stderr",
     "output_type": "stream",
     "text": [
      " 26%|██▌       | 130/500 [04:17<09:05,  1.47s/it]"
     ]
    },
    {
     "name": "stdout",
     "output_type": "stream",
     "text": [
      "Lỗi khi truy cập URL https://www.imdb.com/title/tt23874798/reviews?spoiler=hide&sort=curated&dir=desc&ratingFilter=0 ở vòng lặp thứ 130 : ('Connection aborted.', ConnectionResetError(10054, 'An existing connection was forcibly closed by the remote host', None, 10054, None))\n"
     ]
    },
    {
     "name": "stderr",
     "output_type": "stream",
     "text": [
      " 53%|█████▎    | 265/500 [08:20<17:51,  4.56s/it]"
     ]
    },
    {
     "name": "stdout",
     "output_type": "stream",
     "text": [
      "Lỗi khi truy cập URL https://www.imdb.com/title/tt13293588/reviews?spoiler=hide&sort=curated&dir=desc&ratingFilter=0 ở vòng lặp thứ 265 : HTTPSConnectionPool(host='www.imdb.com', port=443): Read timed out.\n"
     ]
    },
    {
     "name": "stderr",
     "output_type": "stream",
     "text": [
      " 95%|█████████▌| 476/500 [14:31<01:48,  4.50s/it]"
     ]
    },
    {
     "name": "stdout",
     "output_type": "stream",
     "text": [
      "Lỗi khi truy cập URL https://www.imdb.com/title/tt17564828/reviews?spoiler=hide&sort=curated&dir=desc&ratingFilter=0 ở vòng lặp thứ 476 : HTTPSConnectionPool(host='www.imdb.com', port=443): Read timed out.\n"
     ]
    },
    {
     "name": "stderr",
     "output_type": "stream",
     "text": [
      "100%|██████████| 500/500 [15:16<00:00,  1.83s/it]\n"
     ]
    },
    {
     "name": "stdout",
     "output_type": "stream",
     "text": [
      "All data successfully added\n"
     ]
    }
   ],
   "source": [
    "# --- Batch 20 --- \n",
    "rates, reviews = crawl(batch = additional_review_urls_2['review_urls'][4500:], rate_filter=range(1,7))\n",
    "# Store the data to csv format\n",
    "data_frame = pd.DataFrame({\n",
    "    \"Review\": reviews,\n",
    "    \"Rate\" : rates\n",
    "})\n",
    "\n",
    "data_frame.to_csv(\"data/batch20_IMDB_reviews.csv\", index=False)\n",
    "print(\"All data successfully added\")"
   ]
  },
  {
   "cell_type": "markdown",
   "metadata": {},
   "source": [
    "##### Batch 21 - 23"
   ]
  },
  {
   "cell_type": "code",
   "execution_count": 40,
   "metadata": {},
   "outputs": [
    {
     "data": {
      "text/html": [
       "<div>\n",
       "<style scoped>\n",
       "    .dataframe tbody tr th:only-of-type {\n",
       "        vertical-align: middle;\n",
       "    }\n",
       "\n",
       "    .dataframe tbody tr th {\n",
       "        vertical-align: top;\n",
       "    }\n",
       "\n",
       "    .dataframe thead th {\n",
       "        text-align: right;\n",
       "    }\n",
       "</style>\n",
       "<table border=\"1\" class=\"dataframe\">\n",
       "  <thead>\n",
       "    <tr style=\"text-align: right;\">\n",
       "      <th></th>\n",
       "      <th>review_urls</th>\n",
       "    </tr>\n",
       "  </thead>\n",
       "  <tbody>\n",
       "    <tr>\n",
       "      <th>0</th>\n",
       "      <td>https://www.imdb.com/title/tt6723592/reviews?s...</td>\n",
       "    </tr>\n",
       "    <tr>\n",
       "      <th>1</th>\n",
       "      <td>https://www.imdb.com/title/tt10048342/reviews?...</td>\n",
       "    </tr>\n",
       "    <tr>\n",
       "      <th>2</th>\n",
       "      <td>https://www.imdb.com/title/tt2948372/reviews?s...</td>\n",
       "    </tr>\n",
       "    <tr>\n",
       "      <th>3</th>\n",
       "      <td>https://www.imdb.com/title/tt7126948/reviews?s...</td>\n",
       "    </tr>\n",
       "    <tr>\n",
       "      <th>4</th>\n",
       "      <td>https://www.imdb.com/title/tt8332922/reviews?s...</td>\n",
       "    </tr>\n",
       "    <tr>\n",
       "      <th>...</th>\n",
       "      <td>...</td>\n",
       "    </tr>\n",
       "    <tr>\n",
       "      <th>1623</th>\n",
       "      <td>https://www.imdb.com/title/tt9797932/reviews?s...</td>\n",
       "    </tr>\n",
       "    <tr>\n",
       "      <th>1624</th>\n",
       "      <td>https://www.imdb.com/title/tt9731360/reviews?s...</td>\n",
       "    </tr>\n",
       "    <tr>\n",
       "      <th>1625</th>\n",
       "      <td>https://www.imdb.com/title/tt11625100/reviews?...</td>\n",
       "    </tr>\n",
       "    <tr>\n",
       "      <th>1626</th>\n",
       "      <td>https://www.imdb.com/title/tt8200456/reviews?s...</td>\n",
       "    </tr>\n",
       "    <tr>\n",
       "      <th>1627</th>\n",
       "      <td>https://www.imdb.com/title/tt2573372/reviews?s...</td>\n",
       "    </tr>\n",
       "  </tbody>\n",
       "</table>\n",
       "<p>1628 rows × 1 columns</p>\n",
       "</div>"
      ],
      "text/plain": [
       "                                            review_urls\n",
       "0     https://www.imdb.com/title/tt6723592/reviews?s...\n",
       "1     https://www.imdb.com/title/tt10048342/reviews?...\n",
       "2     https://www.imdb.com/title/tt2948372/reviews?s...\n",
       "3     https://www.imdb.com/title/tt7126948/reviews?s...\n",
       "4     https://www.imdb.com/title/tt8332922/reviews?s...\n",
       "...                                                 ...\n",
       "1623  https://www.imdb.com/title/tt9797932/reviews?s...\n",
       "1624  https://www.imdb.com/title/tt9731360/reviews?s...\n",
       "1625  https://www.imdb.com/title/tt11625100/reviews?...\n",
       "1626  https://www.imdb.com/title/tt8200456/reviews?s...\n",
       "1627  https://www.imdb.com/title/tt2573372/reviews?s...\n",
       "\n",
       "[1628 rows x 1 columns]"
      ]
     },
     "execution_count": 40,
     "metadata": {},
     "output_type": "execute_result"
    }
   ],
   "source": [
    "additional_review_urls_3 = pd.read_csv(\"data/additional_review_urls_3.csv\")\n",
    "additional_review_urls_3"
   ]
  },
  {
   "cell_type": "markdown",
   "metadata": {},
   "source": [
    "Lọc chỉ lấy rate từ 1 tới 6 -> range(1,7)"
   ]
  },
  {
   "cell_type": "code",
   "execution_count": 45,
   "metadata": {},
   "outputs": [
    {
     "name": "stderr",
     "output_type": "stream",
     "text": [
      " 16%|█▌        | 79/500 [02:56<34:27,  4.91s/it]"
     ]
    },
    {
     "name": "stdout",
     "output_type": "stream",
     "text": [
      "Lỗi khi truy cập URL https://www.imdb.com/title/tt10682266/reviews?spoiler=hide&sort=curated&dir=desc&ratingFilter=0 ở vòng lặp thứ 79 : HTTPSConnectionPool(host='www.imdb.com', port=443): Read timed out.\n"
     ]
    },
    {
     "name": "stderr",
     "output_type": "stream",
     "text": [
      " 62%|██████▏   | 308/500 [10:36<15:20,  4.79s/it]"
     ]
    },
    {
     "name": "stdout",
     "output_type": "stream",
     "text": [
      "Lỗi khi truy cập URL https://www.imdb.com/title/tt10308928/reviews?spoiler=hide&sort=curated&dir=desc&ratingFilter=0 ở vòng lặp thứ 308 : HTTPSConnectionPool(host='www.imdb.com', port=443): Read timed out.\n"
     ]
    },
    {
     "name": "stderr",
     "output_type": "stream",
     "text": [
      "100%|██████████| 500/500 [16:47<00:00,  2.01s/it]\n"
     ]
    },
    {
     "name": "stdout",
     "output_type": "stream",
     "text": [
      "All data successfully added\n"
     ]
    }
   ],
   "source": [
    "# --- Batch 21 --- \n",
    "rates, reviews = crawl(batch = additional_review_urls_3['review_urls'][0:500], rate_filter=range(1,7))\n",
    "# Store the data to csv format\n",
    "data_frame = pd.DataFrame({\n",
    "    \"Review\": reviews,\n",
    "    \"Rate\" : rates\n",
    "})\n",
    "\n",
    "data_frame.to_csv(\"data/batch21_IMDB_reviews.csv\", index=False)\n",
    "print(\"All data successfully added\")"
   ]
  },
  {
   "cell_type": "code",
   "execution_count": 46,
   "metadata": {},
   "outputs": [
    {
     "name": "stderr",
     "output_type": "stream",
     "text": [
      " 12%|█▏        | 60/500 [02:06<35:11,  4.80s/it]"
     ]
    },
    {
     "name": "stdout",
     "output_type": "stream",
     "text": [
      "Lỗi khi truy cập URL https://www.imdb.com/title/tt8804580/reviews?spoiler=hide&sort=curated&dir=desc&ratingFilter=0 ở vòng lặp thứ 60 : HTTPSConnectionPool(host='www.imdb.com', port=443): Read timed out.\n"
     ]
    },
    {
     "name": "stderr",
     "output_type": "stream",
     "text": [
      " 59%|█████▊    | 293/500 [09:41<16:27,  4.77s/it]"
     ]
    },
    {
     "name": "stdout",
     "output_type": "stream",
     "text": [
      "Lỗi khi truy cập URL https://www.imdb.com/title/tt4351684/reviews?spoiler=hide&sort=curated&dir=desc&ratingFilter=0 ở vòng lặp thứ 293 : HTTPSConnectionPool(host='www.imdb.com', port=443): Read timed out.\n"
     ]
    },
    {
     "name": "stderr",
     "output_type": "stream",
     "text": [
      "100%|██████████| 500/500 [16:12<00:00,  1.94s/it]\n"
     ]
    },
    {
     "name": "stdout",
     "output_type": "stream",
     "text": [
      "All data successfully added\n"
     ]
    }
   ],
   "source": [
    "# --- Batch 22 --- \n",
    "rates, reviews = crawl(batch = additional_review_urls_3['review_urls'][500:1000], rate_filter=range(1,7))\n",
    "# Store the data to csv format\n",
    "data_frame = pd.DataFrame({\n",
    "    \"Review\": reviews,\n",
    "    \"Rate\" : rates\n",
    "})\n",
    "\n",
    "data_frame.to_csv(\"data/batch22_IMDB_reviews.csv\", index=False)\n",
    "print(\"All data successfully added\")"
   ]
  },
  {
   "cell_type": "code",
   "execution_count": 47,
   "metadata": {},
   "outputs": [
    {
     "name": "stderr",
     "output_type": "stream",
     "text": [
      "  7%|▋         | 42/628 [01:29<46:03,  4.72s/it]"
     ]
    },
    {
     "name": "stdout",
     "output_type": "stream",
     "text": [
      "Lỗi khi truy cập URL https://www.imdb.com/title/tt8449154/reviews?spoiler=hide&sort=curated&dir=desc&ratingFilter=0 ở vòng lặp thứ 42 : HTTPSConnectionPool(host='www.imdb.com', port=443): Read timed out.\n"
     ]
    },
    {
     "name": "stderr",
     "output_type": "stream",
     "text": [
      " 46%|████▌     | 288/628 [09:13<26:51,  4.74s/it]"
     ]
    },
    {
     "name": "stdout",
     "output_type": "stream",
     "text": [
      "Lỗi khi truy cập URL https://www.imdb.com/title/tt12897880/reviews?spoiler=hide&sort=curated&dir=desc&ratingFilter=0 ở vòng lặp thứ 288 : HTTPSConnectionPool(host='www.imdb.com', port=443): Read timed out.\n"
     ]
    },
    {
     "name": "stderr",
     "output_type": "stream",
     "text": [
      " 84%|████████▍ | 530/628 [16:42<07:37,  4.66s/it]"
     ]
    },
    {
     "name": "stdout",
     "output_type": "stream",
     "text": [
      "Lỗi khi truy cập URL https://www.imdb.com/title/tt13458600/reviews?spoiler=hide&sort=curated&dir=desc&ratingFilter=0 ở vòng lặp thứ 530 : HTTPSConnectionPool(host='www.imdb.com', port=443): Read timed out.\n"
     ]
    },
    {
     "name": "stderr",
     "output_type": "stream",
     "text": [
      "100%|██████████| 628/628 [19:38<00:00,  1.88s/it]\n"
     ]
    },
    {
     "name": "stdout",
     "output_type": "stream",
     "text": [
      "All data successfully added\n"
     ]
    }
   ],
   "source": [
    "# --- Batch 23 --- \n",
    "rates, reviews = crawl(batch = additional_review_urls_3['review_urls'][1000:], rate_filter=range(1,7))\n",
    "# Store the data to csv format\n",
    "data_frame = pd.DataFrame({\n",
    "    \"Review\": reviews,\n",
    "    \"Rate\" : rates\n",
    "})\n",
    "\n",
    "data_frame.to_csv(\"data/batch23_IMDB_reviews.csv\", index=False)\n",
    "print(\"All data successfully added\")"
   ]
  },
  {
   "cell_type": "markdown",
   "metadata": {},
   "source": [
    "#### Additional raw data"
   ]
  },
  {
   "cell_type": "markdown",
   "metadata": {},
   "source": [
    "##### batch 6-10"
   ]
  },
  {
   "cell_type": "code",
   "execution_count": 116,
   "metadata": {},
   "outputs": [],
   "source": [
    "batch6 = pd.read_csv(\"data/batch6_IMDB_reviews.csv\")\n",
    "batch7 = pd.read_csv(\"data/batch7_IMDB_reviews.csv\")\n",
    "batch8 = pd.read_csv(\"data/batch8_IMDB_reviews.csv\")\n",
    "batch9 = pd.read_csv(\"data/batch9_IMDB_reviews.csv\")\n",
    "batch10 = pd.read_csv(\"data/batch10_IMDB_reviews.csv\")"
   ]
  },
  {
   "cell_type": "code",
   "execution_count": 117,
   "metadata": {},
   "outputs": [],
   "source": [
    "additional_raw_data = pd.concat([batch6, batch7, batch8, batch9, batch10], ignore_index=True)"
   ]
  },
  {
   "cell_type": "code",
   "execution_count": 119,
   "metadata": {},
   "outputs": [
    {
     "data": {
      "text/plain": [
       "6873"
      ]
     },
     "execution_count": 119,
     "metadata": {},
     "output_type": "execute_result"
    }
   ],
   "source": [
    "additional_raw_data.duplicated().sum()"
   ]
  },
  {
   "cell_type": "code",
   "execution_count": 72,
   "metadata": {},
   "outputs": [
    {
     "data": {
      "text/html": [
       "<div>\n",
       "<style scoped>\n",
       "    .dataframe tbody tr th:only-of-type {\n",
       "        vertical-align: middle;\n",
       "    }\n",
       "\n",
       "    .dataframe tbody tr th {\n",
       "        vertical-align: top;\n",
       "    }\n",
       "\n",
       "    .dataframe thead th {\n",
       "        text-align: right;\n",
       "    }\n",
       "</style>\n",
       "<table border=\"1\" class=\"dataframe\">\n",
       "  <thead>\n",
       "    <tr style=\"text-align: right;\">\n",
       "      <th></th>\n",
       "      <th>Review</th>\n",
       "      <th>Rate</th>\n",
       "    </tr>\n",
       "  </thead>\n",
       "  <tbody>\n",
       "    <tr>\n",
       "      <th>0</th>\n",
       "      <td>I'm shocked at the number of reviewers claimin...</td>\n",
       "      <td>1</td>\n",
       "    </tr>\n",
       "    <tr>\n",
       "      <th>1</th>\n",
       "      <td>I gave this the benefit of the doubt and sat t...</td>\n",
       "      <td>1</td>\n",
       "    </tr>\n",
       "    <tr>\n",
       "      <th>2</th>\n",
       "      <td>What an embarrassment.This series got into hot...</td>\n",
       "      <td>4</td>\n",
       "    </tr>\n",
       "    <tr>\n",
       "      <th>3</th>\n",
       "      <td>This gives me high school play vibes with lots...</td>\n",
       "      <td>1</td>\n",
       "    </tr>\n",
       "    <tr>\n",
       "      <th>4</th>\n",
       "      <td>I'm guessing the singer 'the weekend' thought ...</td>\n",
       "      <td>1</td>\n",
       "    </tr>\n",
       "    <tr>\n",
       "      <th>...</th>\n",
       "      <td>...</td>\n",
       "      <td>...</td>\n",
       "    </tr>\n",
       "    <tr>\n",
       "      <th>16635</th>\n",
       "      <td>I read the book right before I watched the ser...</td>\n",
       "      <td>5</td>\n",
       "    </tr>\n",
       "    <tr>\n",
       "      <th>16636</th>\n",
       "      <td>Its a very banal story line but because it is ...</td>\n",
       "      <td>5</td>\n",
       "    </tr>\n",
       "    <tr>\n",
       "      <th>16637</th>\n",
       "      <td>This is not about a pandemic, it's just a bori...</td>\n",
       "      <td>5</td>\n",
       "    </tr>\n",
       "    <tr>\n",
       "      <th>16638</th>\n",
       "      <td>This show is a mess. Confusing. Lost in some h...</td>\n",
       "      <td>3</td>\n",
       "    </tr>\n",
       "    <tr>\n",
       "      <th>16639</th>\n",
       "      <td>The Devil's Hour is initially very frustrating...</td>\n",
       "      <td>6</td>\n",
       "    </tr>\n",
       "  </tbody>\n",
       "</table>\n",
       "<p>16640 rows × 2 columns</p>\n",
       "</div>"
      ],
      "text/plain": [
       "                                                  Review  Rate\n",
       "0      I'm shocked at the number of reviewers claimin...     1\n",
       "1      I gave this the benefit of the doubt and sat t...     1\n",
       "2      What an embarrassment.This series got into hot...     4\n",
       "3      This gives me high school play vibes with lots...     1\n",
       "4      I'm guessing the singer 'the weekend' thought ...     1\n",
       "...                                                  ...   ...\n",
       "16635  I read the book right before I watched the ser...     5\n",
       "16636  Its a very banal story line but because it is ...     5\n",
       "16637  This is not about a pandemic, it's just a bori...     5\n",
       "16638  This show is a mess. Confusing. Lost in some h...     3\n",
       "16639  The Devil's Hour is initially very frustrating...     6\n",
       "\n",
       "[16640 rows x 2 columns]"
      ]
     },
     "execution_count": 72,
     "metadata": {},
     "output_type": "execute_result"
    }
   ],
   "source": [
    "additional_raw_data"
   ]
  },
  {
   "cell_type": "code",
   "execution_count": 73,
   "metadata": {},
   "outputs": [],
   "source": [
    "additional_raw_data.to_csv(\"data/additional_raw_data.csv\", index=False)"
   ]
  },
  {
   "cell_type": "code",
   "execution_count": 74,
   "metadata": {},
   "outputs": [
    {
     "name": "stdout",
     "output_type": "stream",
     "text": [
      "                                                  Review  Rate     Label\n",
      "0      I'm shocked at the number of reviewers claimin...     1  negative\n",
      "1      I gave this the benefit of the doubt and sat t...     1  negative\n",
      "2      What an embarrassment.This series got into hot...     4   neutral\n",
      "3      This gives me high school play vibes with lots...     1  negative\n",
      "4      I'm guessing the singer 'the weekend' thought ...     1  negative\n",
      "...                                                  ...   ...       ...\n",
      "16635  I read the book right before I watched the ser...     5   neutral\n",
      "16636  Its a very banal story line but because it is ...     5   neutral\n",
      "16637  This is not about a pandemic, it's just a bori...     5   neutral\n",
      "16638  This show is a mess. Confusing. Lost in some h...     3  negative\n",
      "16639  The Devil's Hour is initially very frustrating...     6   neutral\n",
      "\n",
      "[16640 rows x 3 columns]\n"
     ]
    },
    {
     "data": {
      "text/plain": [
       "negative    8855\n",
       "neutral     7785\n",
       "Name: Label, dtype: int64"
      ]
     },
     "execution_count": 74,
     "metadata": {},
     "output_type": "execute_result"
    }
   ],
   "source": [
    "# Định nghĩa hàm ánh xạ giá trị rate sang nhãn\n",
    "def map_to_label(rate):\n",
    "    if int(rate) >= 7:\n",
    "        return 'positive'\n",
    "    elif int(rate) >= 4:\n",
    "        return 'neutral'\n",
    "    else:\n",
    "        return 'negative'\n",
    "\n",
    "labeled_additional_raw_data = additional_raw_data.copy()\n",
    "# Sử dụng hàm ánh xạ để tạo cột nhãn mới\n",
    "labeled_additional_raw_data['Label'] = labeled_additional_raw_data['Rate'].map(map_to_label)\n",
    "\n",
    "# In ra DataFrame sau khi thêm cột nhãn\n",
    "print(labeled_additional_raw_data)\n",
    "\n",
    "class_counts = labeled_additional_raw_data['Label'].value_counts()\n",
    "class_counts"
   ]
  },
  {
   "cell_type": "code",
   "execution_count": 75,
   "metadata": {},
   "outputs": [],
   "source": [
    "labeled_additional_raw_data.to_csv(\"data/labeled_additional_raw_data.csv\", index=False)"
   ]
  },
  {
   "cell_type": "markdown",
   "metadata": {},
   "source": [
    "##### batch 11-20"
   ]
  },
  {
   "cell_type": "code",
   "execution_count": 102,
   "metadata": {},
   "outputs": [],
   "source": [
    "batch11 = pd.read_csv(\"data/batch11_IMDB_reviews.csv\")\n",
    "batch12 = pd.read_csv(\"data/batch12_IMDB_reviews.csv\")\n",
    "batch13 = pd.read_csv(\"data/batch13_IMDB_reviews.csv\")\n",
    "batch14 = pd.read_csv(\"data/batch14_IMDB_reviews.csv\")\n",
    "batch15 = pd.read_csv(\"data/batch15_IMDB_reviews.csv\")\n",
    "batch16 = pd.read_csv(\"data/batch16_IMDB_reviews.csv\")\n",
    "batch17 = pd.read_csv(\"data/batch17_IMDB_reviews.csv\")\n",
    "batch18 = pd.read_csv(\"data/batch18_IMDB_reviews.csv\")\n",
    "batch19 = pd.read_csv(\"data/batch19_IMDB_reviews.csv\")\n",
    "batch20 = pd.read_csv(\"data/batch20_IMDB_reviews.csv\")"
   ]
  },
  {
   "cell_type": "code",
   "execution_count": 128,
   "metadata": {},
   "outputs": [],
   "source": [
    "additional_raw_data_2 = pd.concat([batch11, batch12, batch13, batch14, batch15, batch16, batch17, batch18, batch19, batch20], ignore_index=True)"
   ]
  },
  {
   "cell_type": "code",
   "execution_count": 129,
   "metadata": {},
   "outputs": [
    {
     "data": {
      "text/html": [
       "<div>\n",
       "<style scoped>\n",
       "    .dataframe tbody tr th:only-of-type {\n",
       "        vertical-align: middle;\n",
       "    }\n",
       "\n",
       "    .dataframe tbody tr th {\n",
       "        vertical-align: top;\n",
       "    }\n",
       "\n",
       "    .dataframe thead th {\n",
       "        text-align: right;\n",
       "    }\n",
       "</style>\n",
       "<table border=\"1\" class=\"dataframe\">\n",
       "  <thead>\n",
       "    <tr style=\"text-align: right;\">\n",
       "      <th></th>\n",
       "      <th>Review</th>\n",
       "      <th>Rate</th>\n",
       "    </tr>\n",
       "  </thead>\n",
       "  <tbody>\n",
       "    <tr>\n",
       "      <th>0</th>\n",
       "      <td>This show is really mediocre as is the acting....</td>\n",
       "      <td>4</td>\n",
       "    </tr>\n",
       "    <tr>\n",
       "      <th>1</th>\n",
       "      <td>I was looking forward to this show, but, what ...</td>\n",
       "      <td>1</td>\n",
       "    </tr>\n",
       "    <tr>\n",
       "      <th>2</th>\n",
       "      <td>This show doesn't have an original bone in its...</td>\n",
       "      <td>1</td>\n",
       "    </tr>\n",
       "    <tr>\n",
       "      <th>3</th>\n",
       "      <td>Anyone who watched Falconcrest back in the day...</td>\n",
       "      <td>1</td>\n",
       "    </tr>\n",
       "    <tr>\n",
       "      <th>4</th>\n",
       "      <td>I watched the first episode. This seems to be ...</td>\n",
       "      <td>5</td>\n",
       "    </tr>\n",
       "    <tr>\n",
       "      <th>...</th>\n",
       "      <td>...</td>\n",
       "      <td>...</td>\n",
       "    </tr>\n",
       "    <tr>\n",
       "      <th>27605</th>\n",
       "      <td>Could only stomach around 10 minutes of this, ...</td>\n",
       "      <td>2</td>\n",
       "    </tr>\n",
       "    <tr>\n",
       "      <th>27606</th>\n",
       "      <td>Honestly if I hadn't seen the show Hot Date be...</td>\n",
       "      <td>4</td>\n",
       "    </tr>\n",
       "    <tr>\n",
       "      <th>27607</th>\n",
       "      <td>Not every skit has to be a good one, but the f...</td>\n",
       "      <td>1</td>\n",
       "    </tr>\n",
       "    <tr>\n",
       "      <th>27608</th>\n",
       "      <td>If you liked Movie 43 you will probably like t...</td>\n",
       "      <td>1</td>\n",
       "    </tr>\n",
       "    <tr>\n",
       "      <th>27609</th>\n",
       "      <td>I might have liked this when I was in grade sc...</td>\n",
       "      <td>1</td>\n",
       "    </tr>\n",
       "  </tbody>\n",
       "</table>\n",
       "<p>27610 rows × 2 columns</p>\n",
       "</div>"
      ],
      "text/plain": [
       "                                                  Review  Rate\n",
       "0      This show is really mediocre as is the acting....     4\n",
       "1      I was looking forward to this show, but, what ...     1\n",
       "2      This show doesn't have an original bone in its...     1\n",
       "3      Anyone who watched Falconcrest back in the day...     1\n",
       "4      I watched the first episode. This seems to be ...     5\n",
       "...                                                  ...   ...\n",
       "27605  Could only stomach around 10 minutes of this, ...     2\n",
       "27606  Honestly if I hadn't seen the show Hot Date be...     4\n",
       "27607  Not every skit has to be a good one, but the f...     1\n",
       "27608  If you liked Movie 43 you will probably like t...     1\n",
       "27609  I might have liked this when I was in grade sc...     1\n",
       "\n",
       "[27610 rows x 2 columns]"
      ]
     },
     "execution_count": 129,
     "metadata": {},
     "output_type": "execute_result"
    }
   ],
   "source": [
    "additional_raw_data_2"
   ]
  },
  {
   "cell_type": "code",
   "execution_count": 133,
   "metadata": {},
   "outputs": [],
   "source": [
    "additional_raw_data_2.to_csv(\"./data/additional_raw_data_2.csv\", index=False)"
   ]
  },
  {
   "cell_type": "code",
   "execution_count": 132,
   "metadata": {},
   "outputs": [
    {
     "name": "stdout",
     "output_type": "stream",
     "text": [
      "                                                  Review  Rate     Label\n",
      "0      This show is really mediocre as is the acting....     4   neutral\n",
      "1      I was looking forward to this show, but, what ...     1  negative\n",
      "2      This show doesn't have an original bone in its...     1  negative\n",
      "3      Anyone who watched Falconcrest back in the day...     1  negative\n",
      "4      I watched the first episode. This seems to be ...     5   neutral\n",
      "...                                                  ...   ...       ...\n",
      "27605  Could only stomach around 10 minutes of this, ...     2  negative\n",
      "27606  Honestly if I hadn't seen the show Hot Date be...     4   neutral\n",
      "27607  Not every skit has to be a good one, but the f...     1  negative\n",
      "27608  If you liked Movie 43 you will probably like t...     1  negative\n",
      "27609  I might have liked this when I was in grade sc...     1  negative\n",
      "\n",
      "[27610 rows x 3 columns]\n"
     ]
    },
    {
     "data": {
      "text/plain": [
       "negative    15469\n",
       "neutral     12141\n",
       "Name: Label, dtype: int64"
      ]
     },
     "execution_count": 132,
     "metadata": {},
     "output_type": "execute_result"
    }
   ],
   "source": [
    "# Định nghĩa hàm ánh xạ giá trị rate sang nhãn\n",
    "def map_to_label(rate):\n",
    "    if int(rate) >= 7:\n",
    "        return 'positive'\n",
    "    elif int(rate) >= 4:\n",
    "        return 'neutral'\n",
    "    else:\n",
    "        return 'negative'\n",
    "\n",
    "labeled_additional_raw_data_2 = additional_raw_data_2.copy()\n",
    "# Sử dụng hàm ánh xạ để tạo cột nhãn mới\n",
    "labeled_additional_raw_data_2['Label'] = labeled_additional_raw_data_2['Rate'].map(map_to_label)\n",
    "\n",
    "# In ra DataFrame sau khi thêm cột nhãn\n",
    "print(labeled_additional_raw_data_2)\n",
    "\n",
    "class_counts = labeled_additional_raw_data_2['Label'].value_counts()\n",
    "class_counts"
   ]
  },
  {
   "cell_type": "code",
   "execution_count": 134,
   "metadata": {},
   "outputs": [],
   "source": [
    "labeled_additional_raw_data_2.to_csv(\"./data/labeled_additional_raw_data_2.csv\", index=False)"
   ]
  },
  {
   "cell_type": "markdown",
   "metadata": {},
   "source": [
    "##### batch 21-23"
   ]
  },
  {
   "cell_type": "code",
   "execution_count": 3,
   "metadata": {},
   "outputs": [],
   "source": [
    "batch21 = pd.read_csv(\"data/batch21_IMDB_reviews.csv\")\n",
    "batch22 = pd.read_csv(\"data/batch22_IMDB_reviews.csv\")\n",
    "batch23 = pd.read_csv(\"data/batch23_IMDB_reviews.csv\")"
   ]
  },
  {
   "cell_type": "code",
   "execution_count": 4,
   "metadata": {},
   "outputs": [],
   "source": [
    "additional_raw_data_3 = pd.concat([batch21, batch22, batch23], ignore_index=True)"
   ]
  },
  {
   "cell_type": "code",
   "execution_count": 5,
   "metadata": {},
   "outputs": [
    {
     "data": {
      "text/html": [
       "<div>\n",
       "<style scoped>\n",
       "    .dataframe tbody tr th:only-of-type {\n",
       "        vertical-align: middle;\n",
       "    }\n",
       "\n",
       "    .dataframe tbody tr th {\n",
       "        vertical-align: top;\n",
       "    }\n",
       "\n",
       "    .dataframe thead th {\n",
       "        text-align: right;\n",
       "    }\n",
       "</style>\n",
       "<table border=\"1\" class=\"dataframe\">\n",
       "  <thead>\n",
       "    <tr style=\"text-align: right;\">\n",
       "      <th></th>\n",
       "      <th>Review</th>\n",
       "      <th>Rate</th>\n",
       "    </tr>\n",
       "  </thead>\n",
       "  <tbody>\n",
       "    <tr>\n",
       "      <th>0</th>\n",
       "      <td>Those who liked 'Tenet' said it was confusing....</td>\n",
       "      <td>5</td>\n",
       "    </tr>\n",
       "    <tr>\n",
       "      <th>1</th>\n",
       "      <td>In simplistic manner, i would like to tell fel...</td>\n",
       "      <td>5</td>\n",
       "    </tr>\n",
       "    <tr>\n",
       "      <th>2</th>\n",
       "      <td>Greetings from Lithuania.I just came back from...</td>\n",
       "      <td>6</td>\n",
       "    </tr>\n",
       "    <tr>\n",
       "      <th>3</th>\n",
       "      <td>This is the first movie I have legitimately HA...</td>\n",
       "      <td>2</td>\n",
       "    </tr>\n",
       "    <tr>\n",
       "      <th>4</th>\n",
       "      <td>\"Tenet\" is another overrated mess by Christoph...</td>\n",
       "      <td>5</td>\n",
       "    </tr>\n",
       "    <tr>\n",
       "      <th>...</th>\n",
       "      <td>...</td>\n",
       "      <td>...</td>\n",
       "    </tr>\n",
       "    <tr>\n",
       "      <th>14173</th>\n",
       "      <td>I like the English male actor from other films...</td>\n",
       "      <td>3</td>\n",
       "    </tr>\n",
       "    <tr>\n",
       "      <th>14174</th>\n",
       "      <td>Good movie but too slow but it is effective in...</td>\n",
       "      <td>4</td>\n",
       "    </tr>\n",
       "    <tr>\n",
       "      <th>14175</th>\n",
       "      <td>Fans of heavy CGI demonic possession scenes wo...</td>\n",
       "      <td>6</td>\n",
       "    </tr>\n",
       "    <tr>\n",
       "      <th>14176</th>\n",
       "      <td>I've been watching horror for years. This is n...</td>\n",
       "      <td>1</td>\n",
       "    </tr>\n",
       "    <tr>\n",
       "      <th>14177</th>\n",
       "      <td>Nonsense story\\nNonsense movie\\nNonsense No sp...</td>\n",
       "      <td>1</td>\n",
       "    </tr>\n",
       "  </tbody>\n",
       "</table>\n",
       "<p>14178 rows × 2 columns</p>\n",
       "</div>"
      ],
      "text/plain": [
       "                                                  Review  Rate\n",
       "0      Those who liked 'Tenet' said it was confusing....     5\n",
       "1      In simplistic manner, i would like to tell fel...     5\n",
       "2      Greetings from Lithuania.I just came back from...     6\n",
       "3      This is the first movie I have legitimately HA...     2\n",
       "4      \"Tenet\" is another overrated mess by Christoph...     5\n",
       "...                                                  ...   ...\n",
       "14173  I like the English male actor from other films...     3\n",
       "14174  Good movie but too slow but it is effective in...     4\n",
       "14175  Fans of heavy CGI demonic possession scenes wo...     6\n",
       "14176  I've been watching horror for years. This is n...     1\n",
       "14177  Nonsense story\\nNonsense movie\\nNonsense No sp...     1\n",
       "\n",
       "[14178 rows x 2 columns]"
      ]
     },
     "execution_count": 5,
     "metadata": {},
     "output_type": "execute_result"
    }
   ],
   "source": [
    "additional_raw_data_3"
   ]
  },
  {
   "cell_type": "code",
   "execution_count": 7,
   "metadata": {},
   "outputs": [
    {
     "data": {
      "text/plain": [
       "7"
      ]
     },
     "execution_count": 7,
     "metadata": {},
     "output_type": "execute_result"
    }
   ],
   "source": [
    "additional_raw_data_3.duplicated().sum()"
   ]
  },
  {
   "cell_type": "code",
   "execution_count": 8,
   "metadata": {},
   "outputs": [],
   "source": [
    "additional_raw_data_3 = additional_raw_data_3.drop_duplicates()"
   ]
  },
  {
   "cell_type": "code",
   "execution_count": 9,
   "metadata": {},
   "outputs": [],
   "source": [
    "additional_raw_data_3.to_csv(\"./data/additional_raw_data_3.csv\", index=False)"
   ]
  },
  {
   "cell_type": "code",
   "execution_count": 10,
   "metadata": {},
   "outputs": [
    {
     "name": "stdout",
     "output_type": "stream",
     "text": [
      "                                                  Review  Rate     Label\n",
      "0      Those who liked 'Tenet' said it was confusing....     5   neutral\n",
      "1      In simplistic manner, i would like to tell fel...     5   neutral\n",
      "2      Greetings from Lithuania.I just came back from...     6   neutral\n",
      "3      This is the first movie I have legitimately HA...     2  negative\n",
      "4      \"Tenet\" is another overrated mess by Christoph...     5   neutral\n",
      "...                                                  ...   ...       ...\n",
      "14173  I like the English male actor from other films...     3  negative\n",
      "14174  Good movie but too slow but it is effective in...     4   neutral\n",
      "14175  Fans of heavy CGI demonic possession scenes wo...     6   neutral\n",
      "14176  I've been watching horror for years. This is n...     1  negative\n",
      "14177  Nonsense story\\nNonsense movie\\nNonsense No sp...     1  negative\n",
      "\n",
      "[14171 rows x 3 columns]\n"
     ]
    },
    {
     "data": {
      "text/plain": [
       "negative    7692\n",
       "neutral     6479\n",
       "Name: Label, dtype: int64"
      ]
     },
     "execution_count": 10,
     "metadata": {},
     "output_type": "execute_result"
    }
   ],
   "source": [
    "# Định nghĩa hàm ánh xạ giá trị rate sang nhãn\n",
    "def map_to_label(rate):\n",
    "    if int(rate) >= 7:\n",
    "        return 'positive'\n",
    "    elif int(rate) >= 4:\n",
    "        return 'neutral'\n",
    "    else:\n",
    "        return 'negative'\n",
    "\n",
    "labeled_additional_raw_data_3 = additional_raw_data_3.copy()\n",
    "# Sử dụng hàm ánh xạ để tạo cột nhãn mới\n",
    "labeled_additional_raw_data_3['Label'] = labeled_additional_raw_data_3['Rate'].map(map_to_label)\n",
    "\n",
    "# In ra DataFrame sau khi thêm cột nhãn\n",
    "print(labeled_additional_raw_data_3)\n",
    "\n",
    "class_counts = labeled_additional_raw_data_3['Label'].value_counts()\n",
    "class_counts"
   ]
  },
  {
   "cell_type": "code",
   "execution_count": 11,
   "metadata": {},
   "outputs": [],
   "source": [
    "labeled_additional_raw_data_3.to_csv(\"./data/labeled_additional_raw_data_3.csv\", index=False)"
   ]
  },
  {
   "cell_type": "markdown",
   "metadata": {},
   "source": [
    "#### Raw data with addition"
   ]
  },
  {
   "cell_type": "code",
   "execution_count": 12,
   "metadata": {},
   "outputs": [],
   "source": [
    "labeled_raw_data = pd.read_csv(\"./data/labeled_raw_data.csv\")\n",
    "labeled_additional_raw_data = pd.read_csv(\"./data/labeled_additional_raw_data.csv\")\n",
    "labeled_additional_raw_data_2 = pd.read_csv(\"./data/labeled_additional_raw_data_2.csv\")\n",
    "labeled_additional_raw_data_3 = pd.read_csv(\"./data/labeled_additional_raw_data_3.csv\")"
   ]
  },
  {
   "cell_type": "code",
   "execution_count": 13,
   "metadata": {},
   "outputs": [],
   "source": [
    "raw_corpus_full_data = pd.concat([labeled_raw_data, labeled_additional_raw_data, labeled_additional_raw_data_2, labeled_additional_raw_data_3], ignore_index=True)"
   ]
  },
  {
   "cell_type": "code",
   "execution_count": 14,
   "metadata": {},
   "outputs": [
    {
     "data": {
      "text/html": [
       "<div>\n",
       "<style scoped>\n",
       "    .dataframe tbody tr th:only-of-type {\n",
       "        vertical-align: middle;\n",
       "    }\n",
       "\n",
       "    .dataframe tbody tr th {\n",
       "        vertical-align: top;\n",
       "    }\n",
       "\n",
       "    .dataframe thead th {\n",
       "        text-align: right;\n",
       "    }\n",
       "</style>\n",
       "<table border=\"1\" class=\"dataframe\">\n",
       "  <thead>\n",
       "    <tr style=\"text-align: right;\">\n",
       "      <th></th>\n",
       "      <th>Review</th>\n",
       "      <th>Rate</th>\n",
       "      <th>Label</th>\n",
       "    </tr>\n",
       "  </thead>\n",
       "  <tbody>\n",
       "    <tr>\n",
       "      <th>0</th>\n",
       "      <td>\\nDetective Batman at its peak! Great storylin...</td>\n",
       "      <td>9</td>\n",
       "      <td>positive</td>\n",
       "    </tr>\n",
       "    <tr>\n",
       "      <th>1</th>\n",
       "      <td>\\nI just got out of The BatmanThis movie reall...</td>\n",
       "      <td>8</td>\n",
       "      <td>positive</td>\n",
       "    </tr>\n",
       "    <tr>\n",
       "      <th>2</th>\n",
       "      <td>\\nThe Riddler(Paul Dano, spot-on. How did it t...</td>\n",
       "      <td>9</td>\n",
       "      <td>positive</td>\n",
       "    </tr>\n",
       "    <tr>\n",
       "      <th>3</th>\n",
       "      <td>\\nA serial killer strikes in Gotham City, kill...</td>\n",
       "      <td>7</td>\n",
       "      <td>positive</td>\n",
       "    </tr>\n",
       "    <tr>\n",
       "      <th>4</th>\n",
       "      <td>\\nMatt Reeves The Batman is a hell of a movie,...</td>\n",
       "      <td>9</td>\n",
       "      <td>positive</td>\n",
       "    </tr>\n",
       "    <tr>\n",
       "      <th>...</th>\n",
       "      <td>...</td>\n",
       "      <td>...</td>\n",
       "      <td>...</td>\n",
       "    </tr>\n",
       "    <tr>\n",
       "      <th>115967</th>\n",
       "      <td>I like the English male actor from other films...</td>\n",
       "      <td>3</td>\n",
       "      <td>negative</td>\n",
       "    </tr>\n",
       "    <tr>\n",
       "      <th>115968</th>\n",
       "      <td>Good movie but too slow but it is effective in...</td>\n",
       "      <td>4</td>\n",
       "      <td>neutral</td>\n",
       "    </tr>\n",
       "    <tr>\n",
       "      <th>115969</th>\n",
       "      <td>Fans of heavy CGI demonic possession scenes wo...</td>\n",
       "      <td>6</td>\n",
       "      <td>neutral</td>\n",
       "    </tr>\n",
       "    <tr>\n",
       "      <th>115970</th>\n",
       "      <td>I've been watching horror for years. This is n...</td>\n",
       "      <td>1</td>\n",
       "      <td>negative</td>\n",
       "    </tr>\n",
       "    <tr>\n",
       "      <th>115971</th>\n",
       "      <td>Nonsense story\\nNonsense movie\\nNonsense No sp...</td>\n",
       "      <td>1</td>\n",
       "      <td>negative</td>\n",
       "    </tr>\n",
       "  </tbody>\n",
       "</table>\n",
       "<p>115972 rows × 3 columns</p>\n",
       "</div>"
      ],
      "text/plain": [
       "                                                   Review  Rate     Label\n",
       "0       \\nDetective Batman at its peak! Great storylin...     9  positive\n",
       "1       \\nI just got out of The BatmanThis movie reall...     8  positive\n",
       "2       \\nThe Riddler(Paul Dano, spot-on. How did it t...     9  positive\n",
       "3       \\nA serial killer strikes in Gotham City, kill...     7  positive\n",
       "4       \\nMatt Reeves The Batman is a hell of a movie,...     9  positive\n",
       "...                                                   ...   ...       ...\n",
       "115967  I like the English male actor from other films...     3  negative\n",
       "115968  Good movie but too slow but it is effective in...     4   neutral\n",
       "115969  Fans of heavy CGI demonic possession scenes wo...     6   neutral\n",
       "115970  I've been watching horror for years. This is n...     1  negative\n",
       "115971  Nonsense story\\nNonsense movie\\nNonsense No sp...     1  negative\n",
       "\n",
       "[115972 rows x 3 columns]"
      ]
     },
     "execution_count": 14,
     "metadata": {},
     "output_type": "execute_result"
    }
   ],
   "source": [
    "raw_corpus_full_data"
   ]
  },
  {
   "cell_type": "code",
   "execution_count": 15,
   "metadata": {},
   "outputs": [
    {
     "data": {
      "text/plain": [
       "41985"
      ]
     },
     "execution_count": 15,
     "metadata": {},
     "output_type": "execute_result"
    }
   ],
   "source": [
    "# Trùng lặp\n",
    "raw_corpus_full_data.duplicated().sum()"
   ]
  },
  {
   "cell_type": "code",
   "execution_count": 16,
   "metadata": {},
   "outputs": [],
   "source": [
    "# xoa trung lap\n",
    "raw_corpus_full_data = raw_corpus_full_data.drop_duplicates()"
   ]
  },
  {
   "cell_type": "code",
   "execution_count": 17,
   "metadata": {},
   "outputs": [
    {
     "data": {
      "text/plain": [
       "0"
      ]
     },
     "execution_count": 17,
     "metadata": {},
     "output_type": "execute_result"
    }
   ],
   "source": [
    "# Trùng lặp\n",
    "raw_corpus_full_data.duplicated().sum()"
   ]
  },
  {
   "cell_type": "code",
   "execution_count": 18,
   "metadata": {},
   "outputs": [
    {
     "data": {
      "text/html": [
       "<div>\n",
       "<style scoped>\n",
       "    .dataframe tbody tr th:only-of-type {\n",
       "        vertical-align: middle;\n",
       "    }\n",
       "\n",
       "    .dataframe tbody tr th {\n",
       "        vertical-align: top;\n",
       "    }\n",
       "\n",
       "    .dataframe thead th {\n",
       "        text-align: right;\n",
       "    }\n",
       "</style>\n",
       "<table border=\"1\" class=\"dataframe\">\n",
       "  <thead>\n",
       "    <tr style=\"text-align: right;\">\n",
       "      <th></th>\n",
       "      <th>Review</th>\n",
       "      <th>Rate</th>\n",
       "      <th>Label</th>\n",
       "    </tr>\n",
       "  </thead>\n",
       "  <tbody>\n",
       "    <tr>\n",
       "      <th>0</th>\n",
       "      <td>\\nDetective Batman at its peak! Great storylin...</td>\n",
       "      <td>9</td>\n",
       "      <td>positive</td>\n",
       "    </tr>\n",
       "    <tr>\n",
       "      <th>1</th>\n",
       "      <td>\\nI just got out of The BatmanThis movie reall...</td>\n",
       "      <td>8</td>\n",
       "      <td>positive</td>\n",
       "    </tr>\n",
       "    <tr>\n",
       "      <th>2</th>\n",
       "      <td>\\nThe Riddler(Paul Dano, spot-on. How did it t...</td>\n",
       "      <td>9</td>\n",
       "      <td>positive</td>\n",
       "    </tr>\n",
       "    <tr>\n",
       "      <th>3</th>\n",
       "      <td>\\nA serial killer strikes in Gotham City, kill...</td>\n",
       "      <td>7</td>\n",
       "      <td>positive</td>\n",
       "    </tr>\n",
       "    <tr>\n",
       "      <th>4</th>\n",
       "      <td>\\nMatt Reeves The Batman is a hell of a movie,...</td>\n",
       "      <td>9</td>\n",
       "      <td>positive</td>\n",
       "    </tr>\n",
       "    <tr>\n",
       "      <th>...</th>\n",
       "      <td>...</td>\n",
       "      <td>...</td>\n",
       "      <td>...</td>\n",
       "    </tr>\n",
       "    <tr>\n",
       "      <th>115967</th>\n",
       "      <td>I like the English male actor from other films...</td>\n",
       "      <td>3</td>\n",
       "      <td>negative</td>\n",
       "    </tr>\n",
       "    <tr>\n",
       "      <th>115968</th>\n",
       "      <td>Good movie but too slow but it is effective in...</td>\n",
       "      <td>4</td>\n",
       "      <td>neutral</td>\n",
       "    </tr>\n",
       "    <tr>\n",
       "      <th>115969</th>\n",
       "      <td>Fans of heavy CGI demonic possession scenes wo...</td>\n",
       "      <td>6</td>\n",
       "      <td>neutral</td>\n",
       "    </tr>\n",
       "    <tr>\n",
       "      <th>115970</th>\n",
       "      <td>I've been watching horror for years. This is n...</td>\n",
       "      <td>1</td>\n",
       "      <td>negative</td>\n",
       "    </tr>\n",
       "    <tr>\n",
       "      <th>115971</th>\n",
       "      <td>Nonsense story\\nNonsense movie\\nNonsense No sp...</td>\n",
       "      <td>1</td>\n",
       "      <td>negative</td>\n",
       "    </tr>\n",
       "  </tbody>\n",
       "</table>\n",
       "<p>73987 rows × 3 columns</p>\n",
       "</div>"
      ],
      "text/plain": [
       "                                                   Review  Rate     Label\n",
       "0       \\nDetective Batman at its peak! Great storylin...     9  positive\n",
       "1       \\nI just got out of The BatmanThis movie reall...     8  positive\n",
       "2       \\nThe Riddler(Paul Dano, spot-on. How did it t...     9  positive\n",
       "3       \\nA serial killer strikes in Gotham City, kill...     7  positive\n",
       "4       \\nMatt Reeves The Batman is a hell of a movie,...     9  positive\n",
       "...                                                   ...   ...       ...\n",
       "115967  I like the English male actor from other films...     3  negative\n",
       "115968  Good movie but too slow but it is effective in...     4   neutral\n",
       "115969  Fans of heavy CGI demonic possession scenes wo...     6   neutral\n",
       "115970  I've been watching horror for years. This is n...     1  negative\n",
       "115971  Nonsense story\\nNonsense movie\\nNonsense No sp...     1  negative\n",
       "\n",
       "[73987 rows x 3 columns]"
      ]
     },
     "execution_count": 18,
     "metadata": {},
     "output_type": "execute_result"
    }
   ],
   "source": [
    "raw_corpus_full_data"
   ]
  },
  {
   "cell_type": "code",
   "execution_count": 19,
   "metadata": {},
   "outputs": [
    {
     "data": {
      "text/plain": [
       "negative    26696\n",
       "positive    25424\n",
       "neutral     21867\n",
       "Name: Label, dtype: int64"
      ]
     },
     "execution_count": 19,
     "metadata": {},
     "output_type": "execute_result"
    }
   ],
   "source": [
    "class_counts = raw_corpus_full_data['Label'].value_counts()\n",
    "class_counts"
   ]
  },
  {
   "cell_type": "code",
   "execution_count": 20,
   "metadata": {},
   "outputs": [
    {
     "data": {
      "image/png": "[encoded data removed]",
      "text/plain": [
       "<Figure size 1000x600 with 1 Axes>"
      ]
     },
     "metadata": {},
     "output_type": "display_data"
    }
   ],
   "source": [
    "plt.figure(figsize=(10, 6))\n",
    "sns.countplot(data=raw_corpus_full_data, x='Label', palette='Set2')\n",
    "plt.title('Phân bố số lượng mẫu cho mỗi lớp')\n",
    "plt.xlabel('Lớp (Class)')\n",
    "plt.ylabel('Số lượng')\n",
    "plt.show()"
   ]
  },
  {
   "cell_type": "code",
   "execution_count": 21,
   "metadata": {},
   "outputs": [],
   "source": [
    "raw_corpus_full_data.to_csv(\"raw_corpus_full_data.csv\")"
   ]
  },
  {
   "cell_type": "code",
   "execution_count": null,
   "metadata": {},
   "outputs": [],
   "source": []
  }
 ],
 "metadata": {
  "kernelspec": {
   "display_name": "Python 3",
   "language": "python",
   "name": "python3"
  },
  "language_info": {
   "codemirror_mode": {
    "name": "ipython",
    "version": 3
   },
   "file_extension": ".py",
   "mimetype": "text/x-python",
   "name": "python",
   "nbconvert_exporter": "python",
   "pygments_lexer": "ipython3",
   "version": "3.9.13"
  },
  "orig_nbformat": 4
 },
 "nbformat": 4,
 "nbformat_minor": 2
}
